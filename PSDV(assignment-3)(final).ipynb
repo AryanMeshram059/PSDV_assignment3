{
 "cells": [
  {
   "cell_type": "code",
   "execution_count": 1,
   "id": "c2044d1c-d139-4476-900d-4e345efa53a9",
   "metadata": {},
   "outputs": [],
   "source": [
    "import pandas as pd\n",
    "import numpy as np\n",
    "import seaborn as sns\n",
    "import matplotlib.pyplot as plt\n",
    "import geopandas as gpd\n",
    "import osmnx as ox\n",
    "\n",
    "df = pd.read_csv(\"C:/Users/seema/OneDrive/Desktop/18th/Data.csv\")\n",
    "print(df.columns)\n",
    "df1= pd.read_csv(\"C:/Users/seema/OneDrive/Desktop/18th/State_data.csv\")\n",
    "df1.rename(columns={'State':'state'},inplace=\"True\")\n",
    "print(df1.columns)\n",
    "df_2 = pd.read_csv(\"C:/Users/seema/OneDrive/Desktop/18th/NCAP_Funding.csv\")\n",
    "df_2.rename(columns={'State':'state'},inplace=\"True\")\n",
    "print(df_2.columns)"
   ]
  },
  {
   "cell_type": "markdown",
   "id": "817013f5-24b1-422d-83e4-ddaff944fc93",
   "metadata": {},
   "source": [
    "# Spatial aggregations"
   ]
  },
  {
   "cell_type": "markdown",
   "id": "b4ba9fc8-89b3-4ac9-b4bf-b37af4a96fb3",
   "metadata": {},
   "source": [
    "### Question 1"
   ]
  },
  {
   "cell_type": "code",
   "execution_count": 11,
   "id": "2b150a46-962b-4b8f-9aac-a9c97d4e8ae3",
   "metadata": {},
   "outputs": [
    {
     "name": "stdout",
     "output_type": "stream",
     "text": [
      "The state with highest average level of PM2.5 concentration is Delhi, with concentration of 99.233 units.\n"
     ]
    }
   ],
   "source": [
    "df=pd.read_csv(\"E:/psdvdatasets/Data.csv\")\n",
    "df1=pd.read_csv(\"C:/Users/LENOVO/OneDrive/Desktop/coding/PSDV-3/State_data.csv\")\n",
    "df2=pd.read_csv(\"C:/Users/LENOVO/OneDrive/Desktop/coding/PSDV-3/NCAP_Funding.csv\")\n",
    "\n",
    "\n",
    "df[\"PM2.5\"]=df.groupby(\"state\")[\"PM2.5\"].transform(lambda x: x.fillna(x.median()))\n",
    "avgforstate=df.groupby(\"state\")[\"PM2.5\"].mean()\n",
    "\n",
    "\n",
    "print(f\"The state with highest average level of PM2.5 concentration is {avgforstate.idxmax()}, with concentration of {avgforstate[avgforstate.idxmax()]:.3f} units.\")"
   ]
  },
  {
   "cell_type": "markdown",
   "id": "24855f09-955b-49dd-9c58-9eef928d6f02",
   "metadata": {},
   "source": [
    "### Question 2"
   ]
  },
  {
   "cell_type": "code",
   "execution_count": 3,
   "id": "abb8754d-ecbe-45a8-9401-767beba1e2bf",
   "metadata": {},
   "outputs": [
    {
     "name": "stdout",
     "output_type": "stream",
     "text": [
      "state\n",
      "Andhra Pradesh       365\n",
      "Arunachal Pradesh    365\n",
      "Assam                365\n",
      "Bihar                365\n",
      "Chandigarh           365\n",
      "Chhattisgarh         365\n",
      "Delhi                365\n",
      "Gujarat              365\n",
      "Haryana              365\n",
      "Himachal Pradesh     365\n",
      "Jammu and Kashmir    365\n",
      "Jharkhand            365\n",
      "Karnataka            365\n",
      "Kerala               365\n",
      "Madhya Pradesh       365\n",
      "Maharashtra          365\n",
      "Manipur              365\n",
      "Meghalaya            365\n",
      "Mizoram              365\n",
      "Nagaland             365\n",
      "Odisha               365\n",
      "Puducherry           365\n",
      "Punjab               365\n",
      "Rajasthan            365\n",
      "Sikkim               365\n",
      "Tamil Nadu           365\n",
      "Telangana            365\n",
      "Tripura              365\n",
      "Uttar Pradesh        365\n",
      "Uttarakhand          365\n",
      "West Bengal          365\n",
      "Name: Timestamp, dtype: int64\n",
      "State with most number of hazardous days in 2023 was Andhra Pradesh with 365 hazardous days.\n"
     ]
    }
   ],
   "source": [
    "df[\"Timestamp\"]=pd.to_datetime(df[\"Timestamp\"])\n",
    "\n",
    "df2023=df[df[\"Timestamp\"].dt.year==2023]\n",
    "\n",
    "hazardous_days=df2023[df2023[\"PM2.5\"]>300]\n",
    "statewise_hazardous_count=df2023.groupby(\"state\")[\"Timestamp\"].nunique()\n",
    "print(statewise_hazardous_count)\n",
    "if not statewise_hazardous_count.empty:\n",
    "    most_hazardous_state = statewise_hazardous_count.idxmax()\n",
    "    max_hazardous_days = statewise_hazardous_count[most_hazardous_state]\n",
    "    print(f\"State with most number of hazardous days in 2023 was {most_hazardous_state} with {max_hazardous_days} hazardous days.\")\n",
    "else:\n",
    "    print(\"No hazardous days recorded in 2023.\")\n",
    "\n",
    "# print(f\"State with most number of hazardous days in 2023 was {statewise__hazardous_count.idxmax()} with {statewise__hazardous_count[statewise__hazardous_count.idxmax()]} hazardous days.\")"
   ]
  },
  {
   "cell_type": "markdown",
   "id": "ae621a7b-ece8-4b82-a4e6-fa14a91b3ec7",
   "metadata": {},
   "source": [
    "### Question 3"
   ]
  },
  {
   "cell_type": "code",
   "execution_count": 4,
   "id": "5fa9b29f-5160-4011-a873-f6635e9e8714",
   "metadata": {},
   "outputs": [
    {
     "name": "stdout",
     "output_type": "stream",
     "text": [
      "State with most variability of PM2.5 concentration is Delhi, with a standard deviation of 77.38186293185419\n"
     ]
    }
   ],
   "source": [
    "statewise_standarddev=df.groupby(\"state\")[\"PM2.5\"].std()\n",
    "\n",
    "print(f\"State with most variability of PM2.5 concentration is {statewise_standarddev.idxmax()}, with a standard deviation of {statewise_standarddev[statewise_standarddev.idxmax()]}\")"
   ]
  },
  {
   "cell_type": "markdown",
   "id": "2d6cba4a-a784-4878-9901-b7bc150dc6d9",
   "metadata": {},
   "source": [
    "### Question 4"
   ]
  },
  {
   "cell_type": "code",
   "execution_count": 5,
   "id": "44d3ea7a-b1e5-4781-bfe9-dcb1fee97db4",
   "metadata": {},
   "outputs": [
    {
     "name": "stdout",
     "output_type": "stream",
     "text": [
      "The state with lowest average levels of PM2.5 in covid period was Sikkim with an average of 8.107\n"
     ]
    }
   ],
   "source": [
    "df_covid=df[(df[\"Timestamp\"].dt.year==2020) | (df[\"Timestamp\"].dt.year==2021)]\n",
    "statewise_average=df_covid.groupby(\"state\")[\"PM2.5\"].mean()\n",
    "print(f\"The state with lowest average levels of PM2.5 in covid period was {statewise_average.idxmin()} with an average of {statewise_average[statewise_average.idxmin()]:.3f}\")"
   ]
  },
  {
   "cell_type": "markdown",
   "id": "e89a22ea-f444-4279-98ff-8b3df79f5ce0",
   "metadata": {},
   "source": [
    "# Temporal aggregation"
   ]
  },
  {
   "cell_type": "markdown",
   "id": "df6708bf-809f-40dc-8338-8e949a3b99d4",
   "metadata": {},
   "source": [
    "### Question 1"
   ]
  },
  {
   "cell_type": "code",
   "execution_count": 11,
   "id": "9cf209e8-5d00-44f8-b423-9f3c744deb98",
   "metadata": {},
   "outputs": [
    {
     "name": "stdout",
     "output_type": "stream",
     "text": [
      "The station which recorded the highest value of PM2.5 for the month of Aug 2020 was Lal Bahadur Shastri Nagar, Kalaburagi - KSPCB with a value of 805.51\n"
     ]
    }
   ],
   "source": [
    "august_2020=df[(df[\"Timestamp\"].dt.year==2020) & (df[\"Timestamp\"].dt.month==8)]\n",
    "stationwise_max=august_2020.groupby(\"station\")[\"PM2.5\"].max()\n",
    "print(f\"The station which recorded the highest value of PM2.5 for the month of Aug 2020 was {stationwise_max.idxmax()} with a value of {stationwise_max[stationwise_max.idxmax()]}\")"
   ]
  },
  {
   "cell_type": "markdown",
   "id": "629d47be-dd1e-497a-8814-95a76a9cebec",
   "metadata": {},
   "source": [
    "### Question 2"
   ]
  },
  {
   "cell_type": "code",
   "execution_count": 7,
   "id": "5f1f61d6-a74d-4350-a1e8-b8ccdf9d3833",
   "metadata": {
    "scrolled": true
   },
   "outputs": [
    {
     "name": "stdout",
     "output_type": "stream",
     "text": [
      "Average PM2.5 levels in winters of 2018 were 37.9452796623679 units.\n",
      "Average PM2.5 levels in summer of 2018 were 23.171747311827957 units.\n",
      "Average PM2.5 levels in monsoon of 2018 were 25.754506053120885 units.\n"
     ]
    }
   ],
   "source": [
    "winter_2018=df[((df[\"Timestamp\"].dt.month==12)|(df[\"Timestamp\"].dt.month==1)|(df[\"Timestamp\"].dt.month==2))&(df[\"Timestamp\"].dt.year==2018)&(df[\"station\"]==\"Lal Bahadur Shastri Nagar, Kalaburagi - KSPCB\")]\n",
    "winter_average=winter_2018[\"PM2.5\"].mean()\n",
    "print(f\"Average PM2.5 levels in winters of 2018 were {winter_average} units.\")\n",
    "\n",
    "summer_2018=df[((df[\"Timestamp\"].dt.month==3)|(df[\"Timestamp\"].dt.month==4)|(df[\"Timestamp\"].dt.month==5))&(df[\"Timestamp\"].dt.year==2018)&(df[\"station\"]==\"Lal Bahadur Shastri Nagar, Kalaburagi - KSPCB\")]\n",
    "summer_average=summer_2018[\"PM2.5\"].mean()\n",
    "print(f\"Average PM2.5 levels in summer of 2018 were {summer_average} units.\")\n",
    "\n",
    "monsoon_2018=df[((df[\"Timestamp\"].dt.month==6)|(df[\"Timestamp\"].dt.month==7)|(df[\"Timestamp\"].dt.month==8)|(df[\"Timestamp\"].dt.month==9))&(df[\"Timestamp\"].dt.year==2018)&(df[\"station\"]==\"Lal Bahadur Shastri Nagar, Kalaburagi - KSPCB\")]\n",
    "monsoon_average=monsoon_2018[\"PM2.5\"].mean()\n",
    "print(f\"Average PM2.5 levels in monsoon of 2018 were {monsoon_average} units.\")"
   ]
  },
  {
   "cell_type": "markdown",
   "id": "5ad86351-8bba-4bdc-8d65-e3984318bf8a",
   "metadata": {},
   "source": []
  },
  {
   "cell_type": "markdown",
   "id": "897e4027-15ac-4e52-b530-62f4b763b5ff",
   "metadata": {},
   "source": [
    "### Question 3"
   ]
  },
  {
   "cell_type": "code",
   "execution_count": 7,
   "id": "2461b995-0fea-4854-a06e-83974423ba0c",
   "metadata": {},
   "outputs": [
    {
     "data": {
      "text/html": [
       "<div>\n",
       "<style scoped>\n",
       "    .dataframe tbody tr th:only-of-type {\n",
       "        vertical-align: middle;\n",
       "    }\n",
       "\n",
       "    .dataframe tbody tr th {\n",
       "        vertical-align: top;\n",
       "    }\n",
       "\n",
       "    .dataframe thead th {\n",
       "        text-align: right;\n",
       "    }\n",
       "</style>\n",
       "<table border=\"1\" class=\"dataframe\">\n",
       "  <thead>\n",
       "    <tr style=\"text-align: right;\">\n",
       "      <th>daytype</th>\n",
       "      <th>weekday</th>\n",
       "      <th>weekend</th>\n",
       "    </tr>\n",
       "    <tr>\n",
       "      <th>month</th>\n",
       "      <th></th>\n",
       "      <th></th>\n",
       "    </tr>\n",
       "  </thead>\n",
       "  <tbody>\n",
       "    <tr>\n",
       "      <th>1</th>\n",
       "      <td>38.486305</td>\n",
       "      <td>28.963720</td>\n",
       "    </tr>\n",
       "    <tr>\n",
       "      <th>2</th>\n",
       "      <td>58.604256</td>\n",
       "      <td>53.946216</td>\n",
       "    </tr>\n",
       "    <tr>\n",
       "      <th>3</th>\n",
       "      <td>51.942440</td>\n",
       "      <td>53.167747</td>\n",
       "    </tr>\n",
       "    <tr>\n",
       "      <th>4</th>\n",
       "      <td>31.690971</td>\n",
       "      <td>32.288449</td>\n",
       "    </tr>\n",
       "    <tr>\n",
       "      <th>5</th>\n",
       "      <td>19.663661</td>\n",
       "      <td>20.744797</td>\n",
       "    </tr>\n",
       "    <tr>\n",
       "      <th>6</th>\n",
       "      <td>10.153939</td>\n",
       "      <td>7.695810</td>\n",
       "    </tr>\n",
       "    <tr>\n",
       "      <th>7</th>\n",
       "      <td>10.569553</td>\n",
       "      <td>8.652231</td>\n",
       "    </tr>\n",
       "    <tr>\n",
       "      <th>8</th>\n",
       "      <td>23.171747</td>\n",
       "      <td>23.171747</td>\n",
       "    </tr>\n",
       "    <tr>\n",
       "      <th>9</th>\n",
       "      <td>23.171747</td>\n",
       "      <td>23.171747</td>\n",
       "    </tr>\n",
       "    <tr>\n",
       "      <th>10</th>\n",
       "      <td>26.249121</td>\n",
       "      <td>31.132300</td>\n",
       "    </tr>\n",
       "    <tr>\n",
       "      <th>11</th>\n",
       "      <td>48.326451</td>\n",
       "      <td>42.091224</td>\n",
       "    </tr>\n",
       "    <tr>\n",
       "      <th>12</th>\n",
       "      <td>74.505459</td>\n",
       "      <td>88.985127</td>\n",
       "    </tr>\n",
       "  </tbody>\n",
       "</table>\n",
       "</div>"
      ],
      "text/plain": [
       "daytype    weekday    weekend\n",
       "month                        \n",
       "1        38.486305  28.963720\n",
       "2        58.604256  53.946216\n",
       "3        51.942440  53.167747\n",
       "4        31.690971  32.288449\n",
       "5        19.663661  20.744797\n",
       "6        10.153939   7.695810\n",
       "7        10.569553   8.652231\n",
       "8        23.171747  23.171747\n",
       "9        23.171747  23.171747\n",
       "10       26.249121  31.132300\n",
       "11       48.326451  42.091224\n",
       "12       74.505459  88.985127"
      ]
     },
     "metadata": {},
     "output_type": "display_data"
    },
    {
     "data": {
      "image/png": "[encoded data removed]",
      "text/plain": [
       "<Figure size 640x480 with 1 Axes>"
      ]
     },
     "metadata": {},
     "output_type": "display_data"
    }
   ],
   "source": [
    "# filtering data according to year and given station:\n",
    "data_2021=df[(df[\"Timestamp\"].dt.year==2021)&(df[\"station\"]==\"Lal Bahadur Shastri Nagar, Kalaburagi - KSPCB\")]\n",
    "\n",
    "# adding extra column to identify days: \n",
    "data_2021=data_2021.copy()\n",
    "data_2021[\"daytype\"]=data_2021[\"Timestamp\"].dt.dayofweek.apply(lambda x: \"weekday\" if x<5 else \"weekend\")\n",
    "\n",
    "#adding column to define month: \n",
    "data_2021[\"month\"]=data_2021[\"Timestamp\"].dt.month\n",
    "\n",
    "# grouping data on the basis of month and daytype : \n",
    "monthwise_data=data_2021.groupby([\"month\",\"daytype\"])[\"PM2.5\"].mean().unstack()\n",
    "display(monthwise_data)\n",
    "\n",
    "#plotting the graph:\n",
    "x=monthwise_data.index\n",
    "y1=monthwise_data[\"weekday\"]\n",
    "y2=monthwise_data[\"weekend\"]\n",
    "\n",
    "\n",
    "plt.plot(x,y1,color=\"red\",marker=\"o\")\n",
    "plt.plot(x,y2,color=\"blue\",marker=\"*\")\n",
    "plt.xlabel(\"months\")\n",
    "plt.ylabel(\"Average PM2.5 levels\")\n",
    "plt.show()"
   ]
  },
  {
   "cell_type": "markdown",
   "id": "83127269-6a07-4bf3-b8a5-0363eec68e17",
   "metadata": {},
   "source": [
    "# spatio-temporal aggregations"
   ]
  },
  {
   "cell_type": "markdown",
   "id": "e444e6fd-eaed-40d6-8830-462f78fa5cb7",
   "metadata": {},
   "source": [
    "### Question 1"
   ]
  },
  {
   "cell_type": "code",
   "execution_count": 5,
   "id": "c14e52e9-f6de-4c4f-aebb-5f48e86ca40c",
   "metadata": {},
   "outputs": [
    {
     "name": "stdout",
     "output_type": "stream",
     "text": [
      "State with the most PM2.5 difference: Mizoram\n",
      "Percentage Change: -58.52%\n"
     ]
    }
   ],
   "source": [
    "df_2022 = df[df['Timestamp'].dt.year == 2022].copy()\n",
    "\n",
    "\n",
    "df_2022[\"PM2.5\"]=df_2022.groupby(\"state\")[\"PM2.5\"].transform(lambda x: x.fillna(x.median()))\n",
    "\n",
    "\n",
    "df_2022[\"Month\"] = df_2022[\"Timestamp\"].dt.month\n",
    "\n",
    "\n",
    "summer_months = [3, 4, 5]\n",
    "monsoon_months = [6, 7, 8, 9]\n",
    "\n",
    "\n",
    "summer_avg = df_2022[df_2022[\"Month\"].isin(summer_months)].groupby(\"state\")[\"PM2.5\"].mean()\n",
    "monsoon_avg = df_2022[df_2022[\"Month\"].isin(monsoon_months)].groupby(\"state\")[\"PM2.5\"].mean()\n",
    "\n",
    "\n",
    "seasonal_avg = pd.DataFrame({\"Summer_Avg\": summer_avg, \"Monsoon_Avg\": monsoon_avg})\n",
    "\n",
    "seasonal_avg[\"Percentage_Change\"] = ((seasonal_avg[\"Monsoon_Avg\"] - seasonal_avg[\"Summer_Avg\"]) / seasonal_avg[\"Summer_Avg\"]) * 100\n",
    "most_diff_state = seasonal_avg[\"Percentage_Change\"].abs().idxmax()\n",
    "most_diff_value = seasonal_avg.loc[most_diff_state, \"Percentage_Change\"]\n",
    "   \n",
    "print(f\"State with the most PM2.5 difference: {most_diff_state}\")\n",
    "print(f\"Percentage Change: {most_diff_value:.2f}%\")\n"
   ]
  },
  {
   "cell_type": "markdown",
   "id": "3be8d413-cecb-4a7c-b50b-1385d60077c4",
   "metadata": {},
   "source": [
    "### Question 2"
   ]
  },
  {
   "cell_type": "code",
   "execution_count": 6,
   "id": "aa67d675-53cc-46f6-af8c-575acec3ec2b",
   "metadata": {},
   "outputs": [
    {
     "name": "stdout",
     "output_type": "stream",
     "text": [
      "Season    Monsoon     Summer      Winter\n",
      "Year                                    \n",
      "2017    71.932723  81.150701  102.394469\n",
      "2018    55.486503  88.821439  156.459438\n",
      "2019    49.189570  84.243686  170.053413\n",
      "2020    42.834881  57.059707  151.563309\n",
      "2021    43.911614  78.018191  176.233349\n",
      "2022    45.371365  95.060007  144.567163\n",
      "2023    44.726961  70.527172  161.769980\n",
      "2024    44.071004  80.363532  146.348378\n"
     ]
    },
    {
     "data": {
      "image/png": "[encoded data removed]",
      "text/plain": [
       "<Figure size 1000x500 with 1 Axes>"
      ]
     },
     "metadata": {},
     "output_type": "display_data"
    }
   ],
   "source": [
    "\n",
    "df_delhi = df[df['state'].str.contains(\"Delhi\", case=False, na=False)].copy()\n",
    "\n",
    "\n",
    "df_delhi[\"Year\"] = df_delhi[\"Timestamp\"].dt.year \n",
    "df_delhi[\"Month\"] = df_delhi[\"Timestamp\"].dt.month\n",
    "\n",
    "def get_season(month):\n",
    "    if month in [12, 1, 2]:\n",
    "        return \"Winter\"\n",
    "    elif month in [3, 4, 5]:\n",
    "        return \"Summer\"\n",
    "    elif month in [6, 7, 8, 9]:\n",
    "        return \"Monsoon\"\n",
    "    else:\n",
    "        return \"Other\"\n",
    "\n",
    "\n",
    "df_delhi[\"Season\"] = df_delhi[\"Month\"].apply(get_season)\n",
    "\n",
    "df_delhi = df_delhi[df_delhi[\"Season\"] != \"Other\"]\n",
    "\n",
    "seasonal_avg = df_delhi.groupby([\"Year\", \"Season\"])[\"PM2.5\"].mean().reset_index()\n",
    "\n",
    "seasonal_pivot = seasonal_avg.pivot(index=\"Year\", columns=\"Season\", values=\"PM2.5\")\n",
    "print(seasonal_pivot)\n",
    "\n",
    "plt.figure(figsize=(10, 5))\n",
    "\n",
    "plt.plot(seasonal_pivot.index, seasonal_pivot[\"Winter\"], marker=\"o\", linestyle=\"-\", label=\"Winter\", color=\"blue\")\n",
    "plt.plot(seasonal_pivot.index, seasonal_pivot[\"Summer\"], marker=\"s\", linestyle=\"--\", label=\"Summer\", color=\"orange\")\n",
    "plt.plot(seasonal_pivot.index, seasonal_pivot[\"Monsoon\"], marker=\"^\", linestyle=\"-.\", label=\"Monsoon\", color=\"green\")\n",
    "\n",
    "plt.title(\"Seasonal Variation of PM2.5 in Delhi (2017-2023)\", fontsize=14)\n",
    "plt.xlabel(\"Year\", fontsize=12)\n",
    "plt.ylabel(\"Average PM2.5 Level (µg/m³)\", fontsize=12)\n",
    "plt.legend(title=\"Season\")\n",
    "plt.grid(True)\n",
    "\n",
    "plt.show()\n"
   ]
  },
  {
   "cell_type": "markdown",
   "id": "ceecad03-a232-4a83-87a8-00eb794dd00f",
   "metadata": {},
   "source": [
    "### Question 3"
   ]
  },
  {
   "cell_type": "code",
   "execution_count": 27,
   "id": "6c4f584c-037a-48ba-9cfd-a90d296a52d4",
   "metadata": {},
   "outputs": [
    {
     "data": {
      "text/plain": [
       "<Figure size 1200x600 with 0 Axes>"
      ]
     },
     "metadata": {},
     "output_type": "display_data"
    },
    {
     "data": {
      "image/png": "[encoded data removed]",
      "text/plain": [
       "<Figure size 640x480 with 1 Axes>"
      ]
     },
     "metadata": {},
     "output_type": "display_data"
    },
    {
     "name": "stdout",
     "output_type": "stream",
     "text": [
      "Delhi had more fluctuations in PM2.5 levels.\n"
     ]
    }
   ],
   "source": [
    "df_cities = df[df[\"city\"].isin([\"Delhi\", \"Mumbai\"])].copy()\n",
    "df_cities[\"Year\"] = df_cities[\"Timestamp\"].dt.year\n",
    "\n",
    "\n",
    "time_series_pm25 = df_cities.groupby([\"Year\", \"city\"])[\"PM2.5\"].mean().unstack()\n",
    "\n",
    "\n",
    "plt.figure(figsize=(12, 6))\n",
    "time_series_pm25.plot(kind=\"line\", marker=\"o\")\n",
    "plt.xlabel(\"Year\")\n",
    "plt.ylabel(\"Average PM2.5 Level\")\n",
    "plt.title(\"Time-Series Comparison of PM2.5 Levels: Delhi vs. Mumbai (2015-2023)\")\n",
    "plt.legend(title=\"City\")\n",
    "plt.grid(True)\n",
    "plt.show()\n",
    "\n",
    "\n",
    "delhi_variability = time_series_pm25[\"Delhi\"].std()\n",
    "mumbai_variability = time_series_pm25[\"Mumbai\"].std()\n",
    "\n",
    "if delhi_variability > mumbai_variability:\n",
    "    print(\"Delhi had more fluctuations in PM2.5 levels.\")\n",
    "else:\n",
    "    print(\"Mumbai had more fluctuations in PM2.5 levels.\")"
   ]
  },
  {
   "cell_type": "markdown",
   "id": "e885243b-894b-4a23-81fe-c1e952958382",
   "metadata": {},
   "source": [
    "# Population based"
   ]
  },
  {
   "cell_type": "markdown",
   "id": "5ba9237f-cfee-4caf-bbae-261bdece84d3",
   "metadata": {},
   "source": [
    "### Question 1"
   ]
  },
  {
   "cell_type": "code",
   "execution_count": 14,
   "id": "a1cefed2-be53-41eb-af1e-2eafa3db6200",
   "metadata": {},
   "outputs": [
    {
     "ename": "KeyError",
     "evalue": "'state'",
     "output_type": "error",
     "traceback": [
      "\u001b[1;31m---------------------------------------------------------------------------\u001b[0m",
      "\u001b[1;31mKeyError\u001b[0m                                  Traceback (most recent call last)",
      "\u001b[1;32m~\\AppData\\Local\\Temp\\ipykernel_31152\\1892503210.py\u001b[0m in \u001b[0;36m?\u001b[1;34m()\u001b[0m\n\u001b[0;32m     10\u001b[0m \u001b[1;31m# Fill missing population values with the median state population\u001b[0m\u001b[1;33m\u001b[0m\u001b[1;33m\u001b[0m\u001b[0m\n\u001b[0;32m     11\u001b[0m \u001b[0mdf1\u001b[0m\u001b[1;33m[\u001b[0m\u001b[1;34m\"Population\"\u001b[0m\u001b[1;33m]\u001b[0m \u001b[1;33m=\u001b[0m \u001b[0mdf1\u001b[0m\u001b[1;33m[\u001b[0m\u001b[1;34m\"Population\"\u001b[0m\u001b[1;33m]\u001b[0m\u001b[1;33m.\u001b[0m\u001b[0mfillna\u001b[0m\u001b[1;33m(\u001b[0m\u001b[0mdf1\u001b[0m\u001b[1;33m[\u001b[0m\u001b[1;34m\"Population\"\u001b[0m\u001b[1;33m]\u001b[0m\u001b[1;33m.\u001b[0m\u001b[0mmedian\u001b[0m\u001b[1;33m(\u001b[0m\u001b[1;33m)\u001b[0m\u001b[1;33m)\u001b[0m\u001b[1;33m\u001b[0m\u001b[1;33m\u001b[0m\u001b[0m\n\u001b[0;32m     12\u001b[0m \u001b[1;33m\u001b[0m\u001b[0m\n\u001b[0;32m     13\u001b[0m \u001b[1;31m# Merge with state population data\u001b[0m\u001b[1;33m\u001b[0m\u001b[1;33m\u001b[0m\u001b[0m\n\u001b[1;32m---> 14\u001b[1;33m \u001b[0mmerged_df\u001b[0m \u001b[1;33m=\u001b[0m \u001b[0mpd\u001b[0m\u001b[1;33m.\u001b[0m\u001b[0mmerge\u001b[0m\u001b[1;33m(\u001b[0m\u001b[0mstations_per_state\u001b[0m\u001b[1;33m,\u001b[0m \u001b[0mdf1\u001b[0m\u001b[1;33m,\u001b[0m \u001b[0mon\u001b[0m\u001b[1;33m=\u001b[0m\u001b[1;34m\"state\"\u001b[0m\u001b[1;33m,\u001b[0m \u001b[0mhow\u001b[0m\u001b[1;33m=\u001b[0m\u001b[1;34m\"inner\"\u001b[0m\u001b[1;33m)\u001b[0m\u001b[1;33m\u001b[0m\u001b[1;33m\u001b[0m\u001b[0m\n\u001b[0m\u001b[0;32m     15\u001b[0m \u001b[1;33m\u001b[0m\u001b[0m\n\u001b[0;32m     16\u001b[0m \u001b[1;31m# Compute monitoring stations per million people\u001b[0m\u001b[1;33m\u001b[0m\u001b[1;33m\u001b[0m\u001b[0m\n\u001b[0;32m     17\u001b[0m \u001b[0mmerged_df\u001b[0m\u001b[1;33m[\u001b[0m\u001b[1;34m\"stations_per_million\"\u001b[0m\u001b[1;33m]\u001b[0m \u001b[1;33m=\u001b[0m \u001b[1;33m(\u001b[0m\u001b[0mmerged_df\u001b[0m\u001b[1;33m[\u001b[0m\u001b[1;34m\"num_stations\"\u001b[0m\u001b[1;33m]\u001b[0m \u001b[1;33m/\u001b[0m \u001b[0mmerged_df\u001b[0m\u001b[1;33m[\u001b[0m\u001b[1;34m\"Population\"\u001b[0m\u001b[1;33m]\u001b[0m\u001b[1;33m)\u001b[0m \u001b[1;33m*\u001b[0m \u001b[1;36m1000000\u001b[0m\u001b[1;33m\u001b[0m\u001b[1;33m\u001b[0m\u001b[0m\n",
      "\u001b[1;32m~\\AppData\\Local\\Programs\\Python\\Python313\\Lib\\site-packages\\pandas\\core\\reshape\\merge.py\u001b[0m in \u001b[0;36m?\u001b[1;34m(left, right, how, on, left_on, right_on, left_index, right_index, sort, suffixes, copy, indicator, validate)\u001b[0m\n\u001b[0;32m    166\u001b[0m             \u001b[0mvalidate\u001b[0m\u001b[1;33m=\u001b[0m\u001b[0mvalidate\u001b[0m\u001b[1;33m,\u001b[0m\u001b[1;33m\u001b[0m\u001b[1;33m\u001b[0m\u001b[0m\n\u001b[0;32m    167\u001b[0m             \u001b[0mcopy\u001b[0m\u001b[1;33m=\u001b[0m\u001b[0mcopy\u001b[0m\u001b[1;33m,\u001b[0m\u001b[1;33m\u001b[0m\u001b[1;33m\u001b[0m\u001b[0m\n\u001b[0;32m    168\u001b[0m         \u001b[1;33m)\u001b[0m\u001b[1;33m\u001b[0m\u001b[1;33m\u001b[0m\u001b[0m\n\u001b[0;32m    169\u001b[0m     \u001b[1;32melse\u001b[0m\u001b[1;33m:\u001b[0m\u001b[1;33m\u001b[0m\u001b[1;33m\u001b[0m\u001b[0m\n\u001b[1;32m--> 170\u001b[1;33m         op = _MergeOperation(\n\u001b[0m\u001b[0;32m    171\u001b[0m             \u001b[0mleft_df\u001b[0m\u001b[1;33m,\u001b[0m\u001b[1;33m\u001b[0m\u001b[1;33m\u001b[0m\u001b[0m\n\u001b[0;32m    172\u001b[0m             \u001b[0mright_df\u001b[0m\u001b[1;33m,\u001b[0m\u001b[1;33m\u001b[0m\u001b[1;33m\u001b[0m\u001b[0m\n\u001b[0;32m    173\u001b[0m             \u001b[0mhow\u001b[0m\u001b[1;33m=\u001b[0m\u001b[0mhow\u001b[0m\u001b[1;33m,\u001b[0m\u001b[1;33m\u001b[0m\u001b[1;33m\u001b[0m\u001b[0m\n",
      "\u001b[1;32m~\\AppData\\Local\\Programs\\Python\\Python313\\Lib\\site-packages\\pandas\\core\\reshape\\merge.py\u001b[0m in \u001b[0;36m?\u001b[1;34m(self, left, right, how, on, left_on, right_on, left_index, right_index, sort, suffixes, indicator, validate)\u001b[0m\n\u001b[0;32m    790\u001b[0m             \u001b[0mself\u001b[0m\u001b[1;33m.\u001b[0m\u001b[0mright_join_keys\u001b[0m\u001b[1;33m,\u001b[0m\u001b[1;33m\u001b[0m\u001b[1;33m\u001b[0m\u001b[0m\n\u001b[0;32m    791\u001b[0m             \u001b[0mself\u001b[0m\u001b[1;33m.\u001b[0m\u001b[0mjoin_names\u001b[0m\u001b[1;33m,\u001b[0m\u001b[1;33m\u001b[0m\u001b[1;33m\u001b[0m\u001b[0m\n\u001b[0;32m    792\u001b[0m             \u001b[0mleft_drop\u001b[0m\u001b[1;33m,\u001b[0m\u001b[1;33m\u001b[0m\u001b[1;33m\u001b[0m\u001b[0m\n\u001b[0;32m    793\u001b[0m             \u001b[0mright_drop\u001b[0m\u001b[1;33m,\u001b[0m\u001b[1;33m\u001b[0m\u001b[1;33m\u001b[0m\u001b[0m\n\u001b[1;32m--> 794\u001b[1;33m         \u001b[1;33m)\u001b[0m \u001b[1;33m=\u001b[0m \u001b[0mself\u001b[0m\u001b[1;33m.\u001b[0m\u001b[0m_get_merge_keys\u001b[0m\u001b[1;33m(\u001b[0m\u001b[1;33m)\u001b[0m\u001b[1;33m\u001b[0m\u001b[1;33m\u001b[0m\u001b[0m\n\u001b[0m\u001b[0;32m    795\u001b[0m \u001b[1;33m\u001b[0m\u001b[0m\n\u001b[0;32m    796\u001b[0m         \u001b[1;32mif\u001b[0m \u001b[0mleft_drop\u001b[0m\u001b[1;33m:\u001b[0m\u001b[1;33m\u001b[0m\u001b[1;33m\u001b[0m\u001b[0m\n\u001b[0;32m    797\u001b[0m             \u001b[0mself\u001b[0m\u001b[1;33m.\u001b[0m\u001b[0mleft\u001b[0m \u001b[1;33m=\u001b[0m \u001b[0mself\u001b[0m\u001b[1;33m.\u001b[0m\u001b[0mleft\u001b[0m\u001b[1;33m.\u001b[0m\u001b[0m_drop_labels_or_levels\u001b[0m\u001b[1;33m(\u001b[0m\u001b[0mleft_drop\u001b[0m\u001b[1;33m)\u001b[0m\u001b[1;33m\u001b[0m\u001b[1;33m\u001b[0m\u001b[0m\n",
      "\u001b[1;32m~\\AppData\\Local\\Programs\\Python\\Python313\\Lib\\site-packages\\pandas\\core\\reshape\\merge.py\u001b[0m in \u001b[0;36m?\u001b[1;34m(self)\u001b[0m\n\u001b[0;32m   1293\u001b[0m                         \u001b[1;31m# Then we're either Hashable or a wrong-length arraylike,\u001b[0m\u001b[1;33m\u001b[0m\u001b[1;33m\u001b[0m\u001b[0m\n\u001b[0;32m   1294\u001b[0m                         \u001b[1;31m#  the latter of which will raise\u001b[0m\u001b[1;33m\u001b[0m\u001b[1;33m\u001b[0m\u001b[0m\n\u001b[0;32m   1295\u001b[0m                         \u001b[0mrk\u001b[0m \u001b[1;33m=\u001b[0m \u001b[0mcast\u001b[0m\u001b[1;33m(\u001b[0m\u001b[0mHashable\u001b[0m\u001b[1;33m,\u001b[0m \u001b[0mrk\u001b[0m\u001b[1;33m)\u001b[0m\u001b[1;33m\u001b[0m\u001b[1;33m\u001b[0m\u001b[0m\n\u001b[0;32m   1296\u001b[0m                         \u001b[1;32mif\u001b[0m \u001b[0mrk\u001b[0m \u001b[1;32mis\u001b[0m \u001b[1;32mnot\u001b[0m \u001b[1;32mNone\u001b[0m\u001b[1;33m:\u001b[0m\u001b[1;33m\u001b[0m\u001b[1;33m\u001b[0m\u001b[0m\n\u001b[1;32m-> 1297\u001b[1;33m                             \u001b[0mright_keys\u001b[0m\u001b[1;33m.\u001b[0m\u001b[0mappend\u001b[0m\u001b[1;33m(\u001b[0m\u001b[0mright\u001b[0m\u001b[1;33m.\u001b[0m\u001b[0m_get_label_or_level_values\u001b[0m\u001b[1;33m(\u001b[0m\u001b[0mrk\u001b[0m\u001b[1;33m)\u001b[0m\u001b[1;33m)\u001b[0m\u001b[1;33m\u001b[0m\u001b[1;33m\u001b[0m\u001b[0m\n\u001b[0m\u001b[0;32m   1298\u001b[0m                         \u001b[1;32melse\u001b[0m\u001b[1;33m:\u001b[0m\u001b[1;33m\u001b[0m\u001b[1;33m\u001b[0m\u001b[0m\n\u001b[0;32m   1299\u001b[0m                             \u001b[1;31m# work-around for merge_asof(right_index=True)\u001b[0m\u001b[1;33m\u001b[0m\u001b[1;33m\u001b[0m\u001b[0m\n\u001b[0;32m   1300\u001b[0m                             \u001b[0mright_keys\u001b[0m\u001b[1;33m.\u001b[0m\u001b[0mappend\u001b[0m\u001b[1;33m(\u001b[0m\u001b[0mright\u001b[0m\u001b[1;33m.\u001b[0m\u001b[0mindex\u001b[0m\u001b[1;33m.\u001b[0m\u001b[0m_values\u001b[0m\u001b[1;33m)\u001b[0m\u001b[1;33m\u001b[0m\u001b[1;33m\u001b[0m\u001b[0m\n",
      "\u001b[1;32m~\\AppData\\Local\\Programs\\Python\\Python313\\Lib\\site-packages\\pandas\\core\\generic.py\u001b[0m in \u001b[0;36m?\u001b[1;34m(self, key, axis)\u001b[0m\n\u001b[0;32m   1907\u001b[0m             \u001b[0mvalues\u001b[0m \u001b[1;33m=\u001b[0m \u001b[0mself\u001b[0m\u001b[1;33m.\u001b[0m\u001b[0mxs\u001b[0m\u001b[1;33m(\u001b[0m\u001b[0mkey\u001b[0m\u001b[1;33m,\u001b[0m \u001b[0maxis\u001b[0m\u001b[1;33m=\u001b[0m\u001b[0mother_axes\u001b[0m\u001b[1;33m[\u001b[0m\u001b[1;36m0\u001b[0m\u001b[1;33m]\u001b[0m\u001b[1;33m)\u001b[0m\u001b[1;33m.\u001b[0m\u001b[0m_values\u001b[0m\u001b[1;33m\u001b[0m\u001b[1;33m\u001b[0m\u001b[0m\n\u001b[0;32m   1908\u001b[0m         \u001b[1;32melif\u001b[0m \u001b[0mself\u001b[0m\u001b[1;33m.\u001b[0m\u001b[0m_is_level_reference\u001b[0m\u001b[1;33m(\u001b[0m\u001b[0mkey\u001b[0m\u001b[1;33m,\u001b[0m \u001b[0maxis\u001b[0m\u001b[1;33m=\u001b[0m\u001b[0maxis\u001b[0m\u001b[1;33m)\u001b[0m\u001b[1;33m:\u001b[0m\u001b[1;33m\u001b[0m\u001b[1;33m\u001b[0m\u001b[0m\n\u001b[0;32m   1909\u001b[0m             \u001b[0mvalues\u001b[0m \u001b[1;33m=\u001b[0m \u001b[0mself\u001b[0m\u001b[1;33m.\u001b[0m\u001b[0maxes\u001b[0m\u001b[1;33m[\u001b[0m\u001b[0maxis\u001b[0m\u001b[1;33m]\u001b[0m\u001b[1;33m.\u001b[0m\u001b[0mget_level_values\u001b[0m\u001b[1;33m(\u001b[0m\u001b[0mkey\u001b[0m\u001b[1;33m)\u001b[0m\u001b[1;33m.\u001b[0m\u001b[0m_values\u001b[0m\u001b[1;33m\u001b[0m\u001b[1;33m\u001b[0m\u001b[0m\n\u001b[0;32m   1910\u001b[0m         \u001b[1;32melse\u001b[0m\u001b[1;33m:\u001b[0m\u001b[1;33m\u001b[0m\u001b[1;33m\u001b[0m\u001b[0m\n\u001b[1;32m-> 1911\u001b[1;33m             \u001b[1;32mraise\u001b[0m \u001b[0mKeyError\u001b[0m\u001b[1;33m(\u001b[0m\u001b[0mkey\u001b[0m\u001b[1;33m)\u001b[0m\u001b[1;33m\u001b[0m\u001b[1;33m\u001b[0m\u001b[0m\n\u001b[0m\u001b[0;32m   1912\u001b[0m \u001b[1;33m\u001b[0m\u001b[0m\n\u001b[0;32m   1913\u001b[0m         \u001b[1;31m# Check for duplicates\u001b[0m\u001b[1;33m\u001b[0m\u001b[1;33m\u001b[0m\u001b[0m\n\u001b[0;32m   1914\u001b[0m         \u001b[1;32mif\u001b[0m \u001b[0mvalues\u001b[0m\u001b[1;33m.\u001b[0m\u001b[0mndim\u001b[0m \u001b[1;33m>\u001b[0m \u001b[1;36m1\u001b[0m\u001b[1;33m:\u001b[0m\u001b[1;33m\u001b[0m\u001b[1;33m\u001b[0m\u001b[0m\n",
      "\u001b[1;31mKeyError\u001b[0m: 'state'"
     ]
    }
   ],
   "source": [
    "stations_per_state = df.groupby(\"state\")[\"station\"].nunique().reset_index()\n",
    "\n",
    "# Rename the 'station' column to 'num_stations'\n",
    "\n",
    "stations_per_state = stations_per_state.rename(columns={\"station\": \"num_stations\"})\n",
    "\n",
    "# Fill missing station counts with 0 (assume no reported stations)\n",
    "stations_per_state[\"num_stations\"] = stations_per_state[\"num_stations\"].fillna(0)\n",
    "\n",
    "# Fill missing population values with the median state population\n",
    "df1[\"Population\"] = df1[\"Population\"].fillna(df1[\"Population\"].median())\n",
    "\n",
    "# Merge with state population data\n",
    "merged_df = pd.merge(stations_per_state, df1, on=\"state\", how=\"inner\")\n",
    "\n",
    "# Compute monitoring stations per million people\n",
    "merged_df[\"stations_per_million\"] = (merged_df[\"num_stations\"] / merged_df[\"Population\"]) * 1000000\n",
    "\n",
    "# Identify the state with the highest number of stations per million people\n",
    "most_monitored_state = merged_df.loc[merged_df[\"stations_per_million\"].idxmax()]b\n",
    "\n",
    "# Print the result\n",
    "print(f\"State with the highest number of monitoring stations per million people: {most_monitored_state['state']} with {most_monitored_state['stations_per_million']:.2f} stations per million people\")\n"
   ]
  },
  {
   "cell_type": "markdown",
   "id": "25f5aede-7bf2-4bc5-afc7-1c5a1ac19da5",
   "metadata": {},
   "source": [
    "### Question 2"
   ]
  },
  {
   "cell_type": "code",
   "execution_count": 16,
   "id": "10aa7e24-61b9-4f7f-85ed-fd11e6ec6306",
   "metadata": {},
   "outputs": [
    {
     "ename": "KeyError",
     "evalue": "\"['state'] not in index\"",
     "output_type": "error",
     "traceback": [
      "\u001b[1;31m---------------------------------------------------------------------------\u001b[0m",
      "\u001b[1;31mKeyError\u001b[0m                                  Traceback (most recent call last)",
      "Cell \u001b[1;32mIn[16], line 13\u001b[0m\n\u001b[0;32m     10\u001b[0m state_pm25 \u001b[38;5;241m=\u001b[39m df\u001b[38;5;241m.\u001b[39mgroupby(\u001b[38;5;124m'\u001b[39m\u001b[38;5;124mstate\u001b[39m\u001b[38;5;124m'\u001b[39m)[\u001b[38;5;124m'\u001b[39m\u001b[38;5;124mPM2.5\u001b[39m\u001b[38;5;124m'\u001b[39m]\u001b[38;5;241m.\u001b[39msum()\u001b[38;5;241m.\u001b[39mreset_index()\n\u001b[0;32m     12\u001b[0m \u001b[38;5;66;03m# Step 5: Merge state data with population info\u001b[39;00m\n\u001b[1;32m---> 13\u001b[0m state_pm25 \u001b[38;5;241m=\u001b[39m state_pm25\u001b[38;5;241m.\u001b[39mmerge(\u001b[43mdf1\u001b[49m\u001b[43m[\u001b[49m\u001b[43m[\u001b[49m\u001b[38;5;124;43m'\u001b[39;49m\u001b[38;5;124;43mstate\u001b[39;49m\u001b[38;5;124;43m'\u001b[39;49m\u001b[43m,\u001b[49m\u001b[43m \u001b[49m\u001b[38;5;124;43m'\u001b[39;49m\u001b[38;5;124;43mPopulation\u001b[39;49m\u001b[38;5;124;43m'\u001b[39;49m\u001b[43m]\u001b[49m\u001b[43m]\u001b[49m, on\u001b[38;5;241m=\u001b[39m\u001b[38;5;124m'\u001b[39m\u001b[38;5;124mstate\u001b[39m\u001b[38;5;124m'\u001b[39m, how\u001b[38;5;241m=\u001b[39m\u001b[38;5;124m'\u001b[39m\u001b[38;5;124mleft\u001b[39m\u001b[38;5;124m'\u001b[39m)\n\u001b[0;32m     15\u001b[0m \u001b[38;5;66;03m# Step 6: Handle any remaining NaN values after the merge (if any)\u001b[39;00m\n\u001b[0;32m     16\u001b[0m \u001b[38;5;66;03m# If any state population is still NaN, we can fill it with the global median or other logic\u001b[39;00m\n\u001b[0;32m     17\u001b[0m state_pm25[\u001b[38;5;124m'\u001b[39m\u001b[38;5;124mPopulation\u001b[39m\u001b[38;5;124m'\u001b[39m] \u001b[38;5;241m=\u001b[39m state_pm25[\u001b[38;5;124m'\u001b[39m\u001b[38;5;124mPopulation\u001b[39m\u001b[38;5;124m'\u001b[39m]\u001b[38;5;241m.\u001b[39mfillna(state_pm25[\u001b[38;5;124m'\u001b[39m\u001b[38;5;124mPopulation\u001b[39m\u001b[38;5;124m'\u001b[39m]\u001b[38;5;241m.\u001b[39mmedian())\n",
      "File \u001b[1;32m~\\AppData\\Local\\Programs\\Python\\Python313\\Lib\\site-packages\\pandas\\core\\frame.py:4108\u001b[0m, in \u001b[0;36mDataFrame.__getitem__\u001b[1;34m(self, key)\u001b[0m\n\u001b[0;32m   4106\u001b[0m     \u001b[38;5;28;01mif\u001b[39;00m is_iterator(key):\n\u001b[0;32m   4107\u001b[0m         key \u001b[38;5;241m=\u001b[39m \u001b[38;5;28mlist\u001b[39m(key)\n\u001b[1;32m-> 4108\u001b[0m     indexer \u001b[38;5;241m=\u001b[39m \u001b[38;5;28;43mself\u001b[39;49m\u001b[38;5;241;43m.\u001b[39;49m\u001b[43mcolumns\u001b[49m\u001b[38;5;241;43m.\u001b[39;49m\u001b[43m_get_indexer_strict\u001b[49m\u001b[43m(\u001b[49m\u001b[43mkey\u001b[49m\u001b[43m,\u001b[49m\u001b[43m \u001b[49m\u001b[38;5;124;43m\"\u001b[39;49m\u001b[38;5;124;43mcolumns\u001b[39;49m\u001b[38;5;124;43m\"\u001b[39;49m\u001b[43m)\u001b[49m[\u001b[38;5;241m1\u001b[39m]\n\u001b[0;32m   4110\u001b[0m \u001b[38;5;66;03m# take() does not accept boolean indexers\u001b[39;00m\n\u001b[0;32m   4111\u001b[0m \u001b[38;5;28;01mif\u001b[39;00m \u001b[38;5;28mgetattr\u001b[39m(indexer, \u001b[38;5;124m\"\u001b[39m\u001b[38;5;124mdtype\u001b[39m\u001b[38;5;124m\"\u001b[39m, \u001b[38;5;28;01mNone\u001b[39;00m) \u001b[38;5;241m==\u001b[39m \u001b[38;5;28mbool\u001b[39m:\n",
      "File \u001b[1;32m~\\AppData\\Local\\Programs\\Python\\Python313\\Lib\\site-packages\\pandas\\core\\indexes\\base.py:6200\u001b[0m, in \u001b[0;36mIndex._get_indexer_strict\u001b[1;34m(self, key, axis_name)\u001b[0m\n\u001b[0;32m   6197\u001b[0m \u001b[38;5;28;01melse\u001b[39;00m:\n\u001b[0;32m   6198\u001b[0m     keyarr, indexer, new_indexer \u001b[38;5;241m=\u001b[39m \u001b[38;5;28mself\u001b[39m\u001b[38;5;241m.\u001b[39m_reindex_non_unique(keyarr)\n\u001b[1;32m-> 6200\u001b[0m \u001b[38;5;28;43mself\u001b[39;49m\u001b[38;5;241;43m.\u001b[39;49m\u001b[43m_raise_if_missing\u001b[49m\u001b[43m(\u001b[49m\u001b[43mkeyarr\u001b[49m\u001b[43m,\u001b[49m\u001b[43m \u001b[49m\u001b[43mindexer\u001b[49m\u001b[43m,\u001b[49m\u001b[43m \u001b[49m\u001b[43maxis_name\u001b[49m\u001b[43m)\u001b[49m\n\u001b[0;32m   6202\u001b[0m keyarr \u001b[38;5;241m=\u001b[39m \u001b[38;5;28mself\u001b[39m\u001b[38;5;241m.\u001b[39mtake(indexer)\n\u001b[0;32m   6203\u001b[0m \u001b[38;5;28;01mif\u001b[39;00m \u001b[38;5;28misinstance\u001b[39m(key, Index):\n\u001b[0;32m   6204\u001b[0m     \u001b[38;5;66;03m# GH 42790 - Preserve name from an Index\u001b[39;00m\n",
      "File \u001b[1;32m~\\AppData\\Local\\Programs\\Python\\Python313\\Lib\\site-packages\\pandas\\core\\indexes\\base.py:6252\u001b[0m, in \u001b[0;36mIndex._raise_if_missing\u001b[1;34m(self, key, indexer, axis_name)\u001b[0m\n\u001b[0;32m   6249\u001b[0m     \u001b[38;5;28;01mraise\u001b[39;00m \u001b[38;5;167;01mKeyError\u001b[39;00m(\u001b[38;5;124mf\u001b[39m\u001b[38;5;124m\"\u001b[39m\u001b[38;5;124mNone of [\u001b[39m\u001b[38;5;132;01m{\u001b[39;00mkey\u001b[38;5;132;01m}\u001b[39;00m\u001b[38;5;124m] are in the [\u001b[39m\u001b[38;5;132;01m{\u001b[39;00maxis_name\u001b[38;5;132;01m}\u001b[39;00m\u001b[38;5;124m]\u001b[39m\u001b[38;5;124m\"\u001b[39m)\n\u001b[0;32m   6251\u001b[0m not_found \u001b[38;5;241m=\u001b[39m \u001b[38;5;28mlist\u001b[39m(ensure_index(key)[missing_mask\u001b[38;5;241m.\u001b[39mnonzero()[\u001b[38;5;241m0\u001b[39m]]\u001b[38;5;241m.\u001b[39munique())\n\u001b[1;32m-> 6252\u001b[0m \u001b[38;5;28;01mraise\u001b[39;00m \u001b[38;5;167;01mKeyError\u001b[39;00m(\u001b[38;5;124mf\u001b[39m\u001b[38;5;124m\"\u001b[39m\u001b[38;5;132;01m{\u001b[39;00mnot_found\u001b[38;5;132;01m}\u001b[39;00m\u001b[38;5;124m not in index\u001b[39m\u001b[38;5;124m\"\u001b[39m)\n",
      "\u001b[1;31mKeyError\u001b[0m: \"['state'] not in index\""
     ]
    }
   ],
   "source": [
    "\n",
    "# Step 2: Handle missing values in df (air quality data)\n",
    "# For PM2.5, we fill NaN with the median of each state's PM2.5 values\n",
    "df['PM2.5'] = df.groupby('state')['PM2.5'].transform(lambda x: x.fillna(x.median()))\n",
    "\n",
    "# Step 3: Handle missing values in df1 (state population data)\n",
    "# For Population, we fill NaN with the median population for that state\n",
    "df1['Population'] = df1['Population'].fillna(df1['Population'].median())\n",
    "\n",
    "# Step 4: Calculate total PM2.5 exposure by state\n",
    "state_pm25 = df.groupby('state')['PM2.5'].sum().reset_index()\n",
    "\n",
    "# Step 5: Merge state data with population info\n",
    "state_pm25 = state_pm25.merge(df1[['state', 'Population']], on='state', how='left')\n",
    "\n",
    "# Step 6: Handle any remaining NaN values after the merge (if any)\n",
    "# If any state population is still NaN, we can fill it with the global median or other logic\n",
    "state_pm25['Population'] = state_pm25['Population'].fillna(state_pm25['Population'].median())\n",
    "\n",
    "# Step 7: Calculate per capita PM2.5 exposure\n",
    "state_pm25['per_capita_pm25'] = state_pm25['PM2.5'] / state_pm25['Population']\n",
    "\n",
    "# Step 8: Sort and select top 5 states\n",
    "top_5_states = state_pm25.sort_values(by='per_capita_pm25', ascending=False).head(5)\n",
    "\n",
    "# Step 9: Plot the bar chart\n",
    "plt.figure(figsize=(10, 6))\n",
    "plt.bar(top_5_states['state'], top_5_states['per_capita_pm25'], color='skyblue')\n",
    "plt.xlabel('State')\n",
    "plt.ylabel('Per Capita PM2.5 Exposure')\n",
    "plt.title('Top 5 Most Polluted States (Per Capita PM2.5 Exposure) in 2023')\n",
    "plt.xticks(rotation=45)\n",
    "plt.show()\n"
   ]
  },
  {
   "cell_type": "markdown",
   "id": "02a437f5-22bb-4b4c-a2d8-f0c694342cb5",
   "metadata": {},
   "source": [
    "### Question 3"
   ]
  },
  {
   "cell_type": "code",
   "execution_count": 17,
   "id": "86e6f17f-6279-4e99-a05d-6e1383cb8104",
   "metadata": {},
   "outputs": [
    {
     "ename": "KeyError",
     "evalue": "\"['state'] not in index\"",
     "output_type": "error",
     "traceback": [
      "\u001b[1;31m---------------------------------------------------------------------------\u001b[0m",
      "\u001b[1;31mKeyError\u001b[0m                                  Traceback (most recent call last)",
      "Cell \u001b[1;32mIn[17], line 19\u001b[0m\n\u001b[0;32m     16\u001b[0m df1[\u001b[38;5;124m'\u001b[39m\u001b[38;5;124mPopulation Density\u001b[39m\u001b[38;5;124m'\u001b[39m] \u001b[38;5;241m=\u001b[39m df1[\u001b[38;5;124m'\u001b[39m\u001b[38;5;124mPopulation\u001b[39m\u001b[38;5;124m'\u001b[39m] \u001b[38;5;241m/\u001b[39m df1[\u001b[38;5;124m'\u001b[39m\u001b[38;5;124mArea (km2)\u001b[39m\u001b[38;5;124m'\u001b[39m]\n\u001b[0;32m     18\u001b[0m \u001b[38;5;66;03m# Step 6: Merge the two datasets on 'state' to combine the population density and average PM2.5 data\u001b[39;00m\n\u001b[1;32m---> 19\u001b[0m state_data \u001b[38;5;241m=\u001b[39m avg_pm25\u001b[38;5;241m.\u001b[39mmerge(\u001b[43mdf1\u001b[49m\u001b[43m[\u001b[49m\u001b[43m[\u001b[49m\u001b[38;5;124;43m'\u001b[39;49m\u001b[38;5;124;43mstate\u001b[39;49m\u001b[38;5;124;43m'\u001b[39;49m\u001b[43m,\u001b[49m\u001b[43m \u001b[49m\u001b[38;5;124;43m'\u001b[39;49m\u001b[38;5;124;43mPopulation Density\u001b[39;49m\u001b[38;5;124;43m'\u001b[39;49m\u001b[43m]\u001b[49m\u001b[43m]\u001b[49m, on\u001b[38;5;241m=\u001b[39m\u001b[38;5;124m'\u001b[39m\u001b[38;5;124mstate\u001b[39m\u001b[38;5;124m'\u001b[39m, how\u001b[38;5;241m=\u001b[39m\u001b[38;5;124m'\u001b[39m\u001b[38;5;124mleft\u001b[39m\u001b[38;5;124m'\u001b[39m)\n\u001b[0;32m     21\u001b[0m \u001b[38;5;66;03m# Step 7: Plot the scatter plot using Seaborn\u001b[39;00m\n\u001b[0;32m     22\u001b[0m plt\u001b[38;5;241m.\u001b[39mfigure(figsize\u001b[38;5;241m=\u001b[39m(\u001b[38;5;241m10\u001b[39m, \u001b[38;5;241m6\u001b[39m))\n",
      "File \u001b[1;32m~\\AppData\\Local\\Programs\\Python\\Python313\\Lib\\site-packages\\pandas\\core\\frame.py:4108\u001b[0m, in \u001b[0;36mDataFrame.__getitem__\u001b[1;34m(self, key)\u001b[0m\n\u001b[0;32m   4106\u001b[0m     \u001b[38;5;28;01mif\u001b[39;00m is_iterator(key):\n\u001b[0;32m   4107\u001b[0m         key \u001b[38;5;241m=\u001b[39m \u001b[38;5;28mlist\u001b[39m(key)\n\u001b[1;32m-> 4108\u001b[0m     indexer \u001b[38;5;241m=\u001b[39m \u001b[38;5;28;43mself\u001b[39;49m\u001b[38;5;241;43m.\u001b[39;49m\u001b[43mcolumns\u001b[49m\u001b[38;5;241;43m.\u001b[39;49m\u001b[43m_get_indexer_strict\u001b[49m\u001b[43m(\u001b[49m\u001b[43mkey\u001b[49m\u001b[43m,\u001b[49m\u001b[43m \u001b[49m\u001b[38;5;124;43m\"\u001b[39;49m\u001b[38;5;124;43mcolumns\u001b[39;49m\u001b[38;5;124;43m\"\u001b[39;49m\u001b[43m)\u001b[49m[\u001b[38;5;241m1\u001b[39m]\n\u001b[0;32m   4110\u001b[0m \u001b[38;5;66;03m# take() does not accept boolean indexers\u001b[39;00m\n\u001b[0;32m   4111\u001b[0m \u001b[38;5;28;01mif\u001b[39;00m \u001b[38;5;28mgetattr\u001b[39m(indexer, \u001b[38;5;124m\"\u001b[39m\u001b[38;5;124mdtype\u001b[39m\u001b[38;5;124m\"\u001b[39m, \u001b[38;5;28;01mNone\u001b[39;00m) \u001b[38;5;241m==\u001b[39m \u001b[38;5;28mbool\u001b[39m:\n",
      "File \u001b[1;32m~\\AppData\\Local\\Programs\\Python\\Python313\\Lib\\site-packages\\pandas\\core\\indexes\\base.py:6200\u001b[0m, in \u001b[0;36mIndex._get_indexer_strict\u001b[1;34m(self, key, axis_name)\u001b[0m\n\u001b[0;32m   6197\u001b[0m \u001b[38;5;28;01melse\u001b[39;00m:\n\u001b[0;32m   6198\u001b[0m     keyarr, indexer, new_indexer \u001b[38;5;241m=\u001b[39m \u001b[38;5;28mself\u001b[39m\u001b[38;5;241m.\u001b[39m_reindex_non_unique(keyarr)\n\u001b[1;32m-> 6200\u001b[0m \u001b[38;5;28;43mself\u001b[39;49m\u001b[38;5;241;43m.\u001b[39;49m\u001b[43m_raise_if_missing\u001b[49m\u001b[43m(\u001b[49m\u001b[43mkeyarr\u001b[49m\u001b[43m,\u001b[49m\u001b[43m \u001b[49m\u001b[43mindexer\u001b[49m\u001b[43m,\u001b[49m\u001b[43m \u001b[49m\u001b[43maxis_name\u001b[49m\u001b[43m)\u001b[49m\n\u001b[0;32m   6202\u001b[0m keyarr \u001b[38;5;241m=\u001b[39m \u001b[38;5;28mself\u001b[39m\u001b[38;5;241m.\u001b[39mtake(indexer)\n\u001b[0;32m   6203\u001b[0m \u001b[38;5;28;01mif\u001b[39;00m \u001b[38;5;28misinstance\u001b[39m(key, Index):\n\u001b[0;32m   6204\u001b[0m     \u001b[38;5;66;03m# GH 42790 - Preserve name from an Index\u001b[39;00m\n",
      "File \u001b[1;32m~\\AppData\\Local\\Programs\\Python\\Python313\\Lib\\site-packages\\pandas\\core\\indexes\\base.py:6252\u001b[0m, in \u001b[0;36mIndex._raise_if_missing\u001b[1;34m(self, key, indexer, axis_name)\u001b[0m\n\u001b[0;32m   6249\u001b[0m     \u001b[38;5;28;01mraise\u001b[39;00m \u001b[38;5;167;01mKeyError\u001b[39;00m(\u001b[38;5;124mf\u001b[39m\u001b[38;5;124m\"\u001b[39m\u001b[38;5;124mNone of [\u001b[39m\u001b[38;5;132;01m{\u001b[39;00mkey\u001b[38;5;132;01m}\u001b[39;00m\u001b[38;5;124m] are in the [\u001b[39m\u001b[38;5;132;01m{\u001b[39;00maxis_name\u001b[38;5;132;01m}\u001b[39;00m\u001b[38;5;124m]\u001b[39m\u001b[38;5;124m\"\u001b[39m)\n\u001b[0;32m   6251\u001b[0m not_found \u001b[38;5;241m=\u001b[39m \u001b[38;5;28mlist\u001b[39m(ensure_index(key)[missing_mask\u001b[38;5;241m.\u001b[39mnonzero()[\u001b[38;5;241m0\u001b[39m]]\u001b[38;5;241m.\u001b[39munique())\n\u001b[1;32m-> 6252\u001b[0m \u001b[38;5;28;01mraise\u001b[39;00m \u001b[38;5;167;01mKeyError\u001b[39;00m(\u001b[38;5;124mf\u001b[39m\u001b[38;5;124m\"\u001b[39m\u001b[38;5;132;01m{\u001b[39;00mnot_found\u001b[38;5;132;01m}\u001b[39;00m\u001b[38;5;124m not in index\u001b[39m\u001b[38;5;124m\"\u001b[39m)\n",
      "\u001b[1;31mKeyError\u001b[0m: \"['state'] not in index\""
     ]
    }
   ],
   "source": [
    "\n",
    "\n",
    "# Step 2: Handle missing values in df (air quality data)\n",
    "# For PM2.5, we fill NaN with the median of each state's PM2.5 values\n",
    "df['PM2.5'] = df.groupby('state')['PM2.5'].transform(lambda x: x.fillna(x.median()))\n",
    "\n",
    "# Step 3: Handle missing values in df1 (state population and area data)\n",
    "# Fill missing Population values with the median population of the state\n",
    "df1['Population'] = df1['Population'].fillna(df1['Population'].median())\n",
    "\n",
    "# Fill missing Area values with the median area of the state (if necessary)\n",
    "df1['Area (km2)'] = df1['Area (km2)'].fillna(df1['Area (km2)'].median())\n",
    "\n",
    "# Step 4: Calculate average PM2.5 concentration by state\n",
    "avg_pm25 = df.groupby('state')['PM2.5'].mean().reset_index()\n",
    "\n",
    "# Step 5: Calculate population density (people per square kilometer)\n",
    "df1['Population Density'] = df1['Population'] / df1['Area (km2)']\n",
    "\n",
    "# Step 6: Merge the two datasets on 'state' to combine the population density and average PM2.5 data\n",
    "state_data = avg_pm25.merge(df1[['state', 'Population Density']], on='state', how='left')\n",
    "\n",
    "# Step 7: Plot the scatter plot using Seaborn\n",
    "plt.figure(figsize=(10, 6))\n",
    "sns.scatterplot(x='Population Density', y='PM2.5', data=state_data, color='blue', s=100)\n",
    "\n",
    "# Step 8: Label the axes and add a title\n",
    "plt.xlabel('Population Density (people per km²)')\n",
    "plt.ylabel('Average PM2.5 Concentration')\n",
    "plt.title('Relationship between Population Density and Average PM2.5 Concentration by State')\n",
    "\n",
    "# Step 9: Show the plot\n",
    "plt.show()\n"
   ]
  },
  {
   "cell_type": "markdown",
   "id": "0fd74553-5e22-415f-9f81-d46609d92ee5",
   "metadata": {},
   "source": [
    "# area based"
   ]
  },
  {
   "cell_type": "markdown",
   "id": "e6613a0b-574c-4dc6-b1d1-28e5c712bce3",
   "metadata": {},
   "source": [
    "### Question 1"
   ]
  },
  {
   "cell_type": "code",
   "execution_count": 18,
   "id": "1f873123-73a0-4ab6-84f8-5023450eb5d5",
   "metadata": {},
   "outputs": [
    {
     "ename": "KeyError",
     "evalue": "\"['state'] not in index\"",
     "output_type": "error",
     "traceback": [
      "\u001b[1;31m---------------------------------------------------------------------------\u001b[0m",
      "\u001b[1;31mKeyError\u001b[0m                                  Traceback (most recent call last)",
      "Cell \u001b[1;32mIn[18], line 8\u001b[0m\n\u001b[0;32m      5\u001b[0m df1[\u001b[38;5;124m'\u001b[39m\u001b[38;5;124mPM2.5 per km²\u001b[39m\u001b[38;5;124m'\u001b[39m] \u001b[38;5;241m=\u001b[39m total_pm25[\u001b[38;5;124m'\u001b[39m\u001b[38;5;124mPM2.5\u001b[39m\u001b[38;5;124m'\u001b[39m] \u001b[38;5;241m/\u001b[39m df1[\u001b[38;5;124m'\u001b[39m\u001b[38;5;124mArea (km2)\u001b[39m\u001b[38;5;124m'\u001b[39m]\n\u001b[0;32m      7\u001b[0m \u001b[38;5;66;03m# Step 6: Merge total PM2.5 exposure data with state data to get PM2.5 per km²\u001b[39;00m\n\u001b[1;32m----> 8\u001b[0m state_pollution \u001b[38;5;241m=\u001b[39m \u001b[43mdf1\u001b[49m\u001b[43m[\u001b[49m\u001b[43m[\u001b[49m\u001b[38;5;124;43m'\u001b[39;49m\u001b[38;5;124;43mstate\u001b[39;49m\u001b[38;5;124;43m'\u001b[39;49m\u001b[43m,\u001b[49m\u001b[43m \u001b[49m\u001b[38;5;124;43m'\u001b[39;49m\u001b[38;5;124;43mPM2.5 per km²\u001b[39;49m\u001b[38;5;124;43m'\u001b[39;49m\u001b[43m]\u001b[49m\u001b[43m]\u001b[49m\n\u001b[0;32m     10\u001b[0m \u001b[38;5;66;03m# Step 7: Identify the state with the highest PM2.5 concentration per square kilometer\u001b[39;00m\n\u001b[0;32m     11\u001b[0m highest_pollution_state \u001b[38;5;241m=\u001b[39m state_pollution\u001b[38;5;241m.\u001b[39mloc[state_pollution[\u001b[38;5;124m'\u001b[39m\u001b[38;5;124mPM2.5 per km²\u001b[39m\u001b[38;5;124m'\u001b[39m]\u001b[38;5;241m.\u001b[39midxmax()]\n",
      "File \u001b[1;32m~\\AppData\\Local\\Programs\\Python\\Python313\\Lib\\site-packages\\pandas\\core\\frame.py:4108\u001b[0m, in \u001b[0;36mDataFrame.__getitem__\u001b[1;34m(self, key)\u001b[0m\n\u001b[0;32m   4106\u001b[0m     \u001b[38;5;28;01mif\u001b[39;00m is_iterator(key):\n\u001b[0;32m   4107\u001b[0m         key \u001b[38;5;241m=\u001b[39m \u001b[38;5;28mlist\u001b[39m(key)\n\u001b[1;32m-> 4108\u001b[0m     indexer \u001b[38;5;241m=\u001b[39m \u001b[38;5;28;43mself\u001b[39;49m\u001b[38;5;241;43m.\u001b[39;49m\u001b[43mcolumns\u001b[49m\u001b[38;5;241;43m.\u001b[39;49m\u001b[43m_get_indexer_strict\u001b[49m\u001b[43m(\u001b[49m\u001b[43mkey\u001b[49m\u001b[43m,\u001b[49m\u001b[43m \u001b[49m\u001b[38;5;124;43m\"\u001b[39;49m\u001b[38;5;124;43mcolumns\u001b[39;49m\u001b[38;5;124;43m\"\u001b[39;49m\u001b[43m)\u001b[49m[\u001b[38;5;241m1\u001b[39m]\n\u001b[0;32m   4110\u001b[0m \u001b[38;5;66;03m# take() does not accept boolean indexers\u001b[39;00m\n\u001b[0;32m   4111\u001b[0m \u001b[38;5;28;01mif\u001b[39;00m \u001b[38;5;28mgetattr\u001b[39m(indexer, \u001b[38;5;124m\"\u001b[39m\u001b[38;5;124mdtype\u001b[39m\u001b[38;5;124m\"\u001b[39m, \u001b[38;5;28;01mNone\u001b[39;00m) \u001b[38;5;241m==\u001b[39m \u001b[38;5;28mbool\u001b[39m:\n",
      "File \u001b[1;32m~\\AppData\\Local\\Programs\\Python\\Python313\\Lib\\site-packages\\pandas\\core\\indexes\\base.py:6200\u001b[0m, in \u001b[0;36mIndex._get_indexer_strict\u001b[1;34m(self, key, axis_name)\u001b[0m\n\u001b[0;32m   6197\u001b[0m \u001b[38;5;28;01melse\u001b[39;00m:\n\u001b[0;32m   6198\u001b[0m     keyarr, indexer, new_indexer \u001b[38;5;241m=\u001b[39m \u001b[38;5;28mself\u001b[39m\u001b[38;5;241m.\u001b[39m_reindex_non_unique(keyarr)\n\u001b[1;32m-> 6200\u001b[0m \u001b[38;5;28;43mself\u001b[39;49m\u001b[38;5;241;43m.\u001b[39;49m\u001b[43m_raise_if_missing\u001b[49m\u001b[43m(\u001b[49m\u001b[43mkeyarr\u001b[49m\u001b[43m,\u001b[49m\u001b[43m \u001b[49m\u001b[43mindexer\u001b[49m\u001b[43m,\u001b[49m\u001b[43m \u001b[49m\u001b[43maxis_name\u001b[49m\u001b[43m)\u001b[49m\n\u001b[0;32m   6202\u001b[0m keyarr \u001b[38;5;241m=\u001b[39m \u001b[38;5;28mself\u001b[39m\u001b[38;5;241m.\u001b[39mtake(indexer)\n\u001b[0;32m   6203\u001b[0m \u001b[38;5;28;01mif\u001b[39;00m \u001b[38;5;28misinstance\u001b[39m(key, Index):\n\u001b[0;32m   6204\u001b[0m     \u001b[38;5;66;03m# GH 42790 - Preserve name from an Index\u001b[39;00m\n",
      "File \u001b[1;32m~\\AppData\\Local\\Programs\\Python\\Python313\\Lib\\site-packages\\pandas\\core\\indexes\\base.py:6252\u001b[0m, in \u001b[0;36mIndex._raise_if_missing\u001b[1;34m(self, key, indexer, axis_name)\u001b[0m\n\u001b[0;32m   6249\u001b[0m     \u001b[38;5;28;01mraise\u001b[39;00m \u001b[38;5;167;01mKeyError\u001b[39;00m(\u001b[38;5;124mf\u001b[39m\u001b[38;5;124m\"\u001b[39m\u001b[38;5;124mNone of [\u001b[39m\u001b[38;5;132;01m{\u001b[39;00mkey\u001b[38;5;132;01m}\u001b[39;00m\u001b[38;5;124m] are in the [\u001b[39m\u001b[38;5;132;01m{\u001b[39;00maxis_name\u001b[38;5;132;01m}\u001b[39;00m\u001b[38;5;124m]\u001b[39m\u001b[38;5;124m\"\u001b[39m)\n\u001b[0;32m   6251\u001b[0m not_found \u001b[38;5;241m=\u001b[39m \u001b[38;5;28mlist\u001b[39m(ensure_index(key)[missing_mask\u001b[38;5;241m.\u001b[39mnonzero()[\u001b[38;5;241m0\u001b[39m]]\u001b[38;5;241m.\u001b[39munique())\n\u001b[1;32m-> 6252\u001b[0m \u001b[38;5;28;01mraise\u001b[39;00m \u001b[38;5;167;01mKeyError\u001b[39;00m(\u001b[38;5;124mf\u001b[39m\u001b[38;5;124m\"\u001b[39m\u001b[38;5;132;01m{\u001b[39;00mnot_found\u001b[38;5;132;01m}\u001b[39;00m\u001b[38;5;124m not in index\u001b[39m\u001b[38;5;124m\"\u001b[39m)\n",
      "\u001b[1;31mKeyError\u001b[0m: \"['state'] not in index\""
     ]
    }
   ],
   "source": [
    "\n",
    "# Step 4: Calculate total PM2.5 exposure by state\n",
    "total_pm25 = df.groupby('state')['PM2.5'].sum().reset_index()\n",
    "\n",
    "# Step 5: Calculate PM2.5 concentration per square kilometer\n",
    "df1['PM2.5 per km²'] = total_pm25['PM2.5'] / df1['Area (km2)']\n",
    "\n",
    "# Step 6: Merge total PM2.5 exposure data with state data to get PM2.5 per km²\n",
    "state_pollution = df1[['state', 'PM2.5 per km²']]\n",
    "\n",
    "# Step 7: Identify the state with the highest PM2.5 concentration per square kilometer\n",
    "highest_pollution_state = state_pollution.loc[state_pollution['PM2.5 per km²'].idxmax()]\n",
    "print(f\"The state with the highest PM2.5 concentration per square kilometer is {highest_pollution_state['state']} with a value of {highest_pollution_state['PM2.5 per km²']:.2f} µg/m³/km².\")\n",
    "\n",
    "# Step 8: Plot the pollution levels for all states relative to their area\n",
    "plt.figure(figsize=(14, 8))\n",
    "plt.bar(state_pollution['state'], state_pollution['PM2.5 per km²'], color='lightcoral')\n",
    "plt.xlabel('State')\n",
    "plt.ylabel('PM2.5 Concentration per km² (µg/m³/km²)')\n",
    "plt.title('PM2.5 Concentration per Square Kilometer for Each State')\n",
    "plt.xticks(rotation=90)\n",
    "plt.tight_layout()\n",
    "plt.show()\n"
   ]
  },
  {
   "cell_type": "markdown",
   "id": "264a969f-5f9f-4052-ad10-e544795c48b3",
   "metadata": {},
   "source": [
    "### Question 2"
   ]
  },
  {
   "cell_type": "code",
   "execution_count": 19,
   "id": "3d5a8a91-3620-4157-837c-142432259c30",
   "metadata": {},
   "outputs": [
    {
     "ename": "KeyError",
     "evalue": "\"None of ['state'] are in the columns\"",
     "output_type": "error",
     "traceback": [
      "\u001b[1;31m---------------------------------------------------------------------------\u001b[0m",
      "\u001b[1;31mKeyError\u001b[0m                                  Traceback (most recent call last)",
      "\u001b[1;32m~\\AppData\\Local\\Temp\\ipykernel_31152\\2480875242.py\u001b[0m in \u001b[0;36m?\u001b[1;34m()\u001b[0m\n\u001b[0;32m      1\u001b[0m \u001b[0mstations_per_state\u001b[0m \u001b[1;33m=\u001b[0m \u001b[0mdf\u001b[0m\u001b[1;33m.\u001b[0m\u001b[0mgroupby\u001b[0m\u001b[1;33m(\u001b[0m\u001b[1;34m'state'\u001b[0m\u001b[1;33m)\u001b[0m\u001b[1;33m[\u001b[0m\u001b[1;34m'station'\u001b[0m\u001b[1;33m]\u001b[0m\u001b[1;33m.\u001b[0m\u001b[0mnunique\u001b[0m\u001b[1;33m(\u001b[0m\u001b[1;33m)\u001b[0m\u001b[1;33m.\u001b[0m\u001b[0mreset_index\u001b[0m\u001b[1;33m(\u001b[0m\u001b[1;33m)\u001b[0m\u001b[1;33m\u001b[0m\u001b[1;33m\u001b[0m\u001b[0m\n\u001b[0;32m      2\u001b[0m \u001b[1;33m\u001b[0m\u001b[0m\n\u001b[0;32m      3\u001b[0m \u001b[1;31m# Ensure 'state' is a valid index in df1 and handle missing areas\u001b[0m\u001b[1;33m\u001b[0m\u001b[1;33m\u001b[0m\u001b[0m\n\u001b[1;32m----> 4\u001b[1;33m \u001b[0mdf1\u001b[0m \u001b[1;33m=\u001b[0m \u001b[0mdf1\u001b[0m\u001b[1;33m.\u001b[0m\u001b[0mset_index\u001b[0m\u001b[1;33m(\u001b[0m\u001b[1;34m'state'\u001b[0m\u001b[1;33m)\u001b[0m\u001b[1;33m\u001b[0m\u001b[1;33m\u001b[0m\u001b[0m\n\u001b[0m\u001b[0;32m      5\u001b[0m \u001b[1;33m\u001b[0m\u001b[0m\n\u001b[0;32m      6\u001b[0m \u001b[1;31m# Fill NaN values in 'Area (km2)' with a default value (e.g., 1 to avoid division by zero)\u001b[0m\u001b[1;33m\u001b[0m\u001b[1;33m\u001b[0m\u001b[0m\n\u001b[0;32m      7\u001b[0m \u001b[0mdf1\u001b[0m\u001b[1;33m[\u001b[0m\u001b[1;34m'Area (km2)'\u001b[0m\u001b[1;33m]\u001b[0m \u001b[1;33m=\u001b[0m \u001b[0mdf1\u001b[0m\u001b[1;33m[\u001b[0m\u001b[1;34m'Area (km2)'\u001b[0m\u001b[1;33m]\u001b[0m\u001b[1;33m.\u001b[0m\u001b[0mfillna\u001b[0m\u001b[1;33m(\u001b[0m\u001b[1;36m1\u001b[0m\u001b[1;33m)\u001b[0m  \u001b[1;31m# Avoid NaN errors\u001b[0m\u001b[1;33m\u001b[0m\u001b[1;33m\u001b[0m\u001b[0m\n",
      "\u001b[1;32m~\\AppData\\Local\\Programs\\Python\\Python313\\Lib\\site-packages\\pandas\\core\\frame.py\u001b[0m in \u001b[0;36m?\u001b[1;34m(self, keys, drop, append, inplace, verify_integrity)\u001b[0m\n\u001b[0;32m   6118\u001b[0m                     \u001b[1;32mif\u001b[0m \u001b[1;32mnot\u001b[0m \u001b[0mfound\u001b[0m\u001b[1;33m:\u001b[0m\u001b[1;33m\u001b[0m\u001b[1;33m\u001b[0m\u001b[0m\n\u001b[0;32m   6119\u001b[0m                         \u001b[0mmissing\u001b[0m\u001b[1;33m.\u001b[0m\u001b[0mappend\u001b[0m\u001b[1;33m(\u001b[0m\u001b[0mcol\u001b[0m\u001b[1;33m)\u001b[0m\u001b[1;33m\u001b[0m\u001b[1;33m\u001b[0m\u001b[0m\n\u001b[0;32m   6120\u001b[0m \u001b[1;33m\u001b[0m\u001b[0m\n\u001b[0;32m   6121\u001b[0m         \u001b[1;32mif\u001b[0m \u001b[0mmissing\u001b[0m\u001b[1;33m:\u001b[0m\u001b[1;33m\u001b[0m\u001b[1;33m\u001b[0m\u001b[0m\n\u001b[1;32m-> 6122\u001b[1;33m             \u001b[1;32mraise\u001b[0m \u001b[0mKeyError\u001b[0m\u001b[1;33m(\u001b[0m\u001b[1;33mf\"\u001b[0m\u001b[1;33mNone of \u001b[0m\u001b[1;33m{\u001b[0m\u001b[0mmissing\u001b[0m\u001b[1;33m}\u001b[0m\u001b[1;33m are in the columns\u001b[0m\u001b[1;33m\"\u001b[0m\u001b[1;33m)\u001b[0m\u001b[1;33m\u001b[0m\u001b[1;33m\u001b[0m\u001b[0m\n\u001b[0m\u001b[0;32m   6123\u001b[0m \u001b[1;33m\u001b[0m\u001b[0m\n\u001b[0;32m   6124\u001b[0m         \u001b[1;32mif\u001b[0m \u001b[0minplace\u001b[0m\u001b[1;33m:\u001b[0m\u001b[1;33m\u001b[0m\u001b[1;33m\u001b[0m\u001b[0m\n\u001b[0;32m   6125\u001b[0m             \u001b[0mframe\u001b[0m \u001b[1;33m=\u001b[0m \u001b[0mself\u001b[0m\u001b[1;33m\u001b[0m\u001b[1;33m\u001b[0m\u001b[0m\n",
      "\u001b[1;31mKeyError\u001b[0m: \"None of ['state'] are in the columns\""
     ]
    }
   ],
   "source": [
    "stations_per_state = df.groupby('state')['station'].nunique().reset_index()\n",
    "\n",
    "# Ensure 'state' is a valid index in df1 and handle missing areas\n",
    "df1 = df1.set_index('state')\n",
    "\n",
    "# Fill NaN values in 'Area (km2)' with a default value (e.g., 1 to avoid division by zero)\n",
    "df1['Area (km2)'] = df1['Area (km2)'].fillna(1)  # Avoid NaN errors\n",
    "\n",
    "# Step 4: Calculate the number of monitoring stations per square kilometer\n",
    "stations_per_state['Stations per km²'] = stations_per_state['state'].map(df1['Area (km2)'])\n",
    "stations_per_state['Stations per km²'] = stations_per_state['station'] / stations_per_state['Stations per km²']\n",
    "\n",
    "# Step 5: Identify the state with the highest density of monitoring stations\n",
    "highest_density_state = stations_per_state.loc[stations_per_state['Stations per km²'].idxmax()]\n",
    "\n",
    "print(f\"The state with the highest density of monitoring stations per square kilometer is {highest_density_state['state']} with {highest_density_state['Stations per km²']:.4f} stations/km².\")\n",
    "\n",
    "# Step 6: Plot the number of monitoring stations per square kilometer for each state\n",
    "plt.figure(figsize=(14, 8))\n",
    "plt.bar(stations_per_state['state'], stations_per_state['Stations per km²'], color='lightblue')\n",
    "plt.xlabel('State')\n",
    "plt.ylabel('Stations per Square Kilometer')\n",
    "plt.title('Monitoring Stations per Square Kilometer by State')\n",
    "plt.xticks(rotation=90)\n",
    "plt.tight_layout()\n",
    "plt.show()\n",
    "\n"
   ]
  },
  {
   "cell_type": "markdown",
   "id": "1c636596-67c0-45d1-9732-a05877396847",
   "metadata": {},
   "source": [
    "### Question 3"
   ]
  },
  {
   "cell_type": "code",
   "execution_count": 20,
   "id": "29a7a0d4-c04e-49c9-9772-e12a5ce2bf55",
   "metadata": {},
   "outputs": [
    {
     "ename": "KeyError",
     "evalue": "'state'",
     "output_type": "error",
     "traceback": [
      "\u001b[1;31m---------------------------------------------------------------------------\u001b[0m",
      "\u001b[1;31mKeyError\u001b[0m                                  Traceback (most recent call last)",
      "File \u001b[1;32m~\\AppData\\Local\\Programs\\Python\\Python313\\Lib\\site-packages\\pandas\\core\\indexes\\base.py:3805\u001b[0m, in \u001b[0;36mIndex.get_loc\u001b[1;34m(self, key)\u001b[0m\n\u001b[0;32m   3804\u001b[0m \u001b[38;5;28;01mtry\u001b[39;00m:\n\u001b[1;32m-> 3805\u001b[0m     \u001b[38;5;28;01mreturn\u001b[39;00m \u001b[38;5;28;43mself\u001b[39;49m\u001b[38;5;241;43m.\u001b[39;49m\u001b[43m_engine\u001b[49m\u001b[38;5;241;43m.\u001b[39;49m\u001b[43mget_loc\u001b[49m\u001b[43m(\u001b[49m\u001b[43mcasted_key\u001b[49m\u001b[43m)\u001b[49m\n\u001b[0;32m   3806\u001b[0m \u001b[38;5;28;01mexcept\u001b[39;00m \u001b[38;5;167;01mKeyError\u001b[39;00m \u001b[38;5;28;01mas\u001b[39;00m err:\n",
      "File \u001b[1;32mindex.pyx:167\u001b[0m, in \u001b[0;36mpandas._libs.index.IndexEngine.get_loc\u001b[1;34m()\u001b[0m\n",
      "File \u001b[1;32mindex.pyx:196\u001b[0m, in \u001b[0;36mpandas._libs.index.IndexEngine.get_loc\u001b[1;34m()\u001b[0m\n",
      "File \u001b[1;32mpandas\\\\_libs\\\\hashtable_class_helper.pxi:7081\u001b[0m, in \u001b[0;36mpandas._libs.hashtable.PyObjectHashTable.get_item\u001b[1;34m()\u001b[0m\n",
      "File \u001b[1;32mpandas\\\\_libs\\\\hashtable_class_helper.pxi:7089\u001b[0m, in \u001b[0;36mpandas._libs.hashtable.PyObjectHashTable.get_item\u001b[1;34m()\u001b[0m\n",
      "\u001b[1;31mKeyError\u001b[0m: 'state'",
      "\nThe above exception was the direct cause of the following exception:\n",
      "\u001b[1;31mKeyError\u001b[0m                                  Traceback (most recent call last)",
      "Cell \u001b[1;32mIn[20], line 10\u001b[0m\n\u001b[0;32m      7\u001b[0m pm25_madhya_pradesh \u001b[38;5;241m=\u001b[39m df_2021[df_2021[\u001b[38;5;124m'\u001b[39m\u001b[38;5;124mstate\u001b[39m\u001b[38;5;124m'\u001b[39m] \u001b[38;5;241m==\u001b[39m \u001b[38;5;124m'\u001b[39m\u001b[38;5;124mMadhya Pradesh\u001b[39m\u001b[38;5;124m'\u001b[39m][\u001b[38;5;124m'\u001b[39m\u001b[38;5;124mPM2.5\u001b[39m\u001b[38;5;124m'\u001b[39m]\u001b[38;5;241m.\u001b[39mmean()\n\u001b[0;32m      9\u001b[0m \u001b[38;5;66;03m# Step 4: Get population and area data for both states\u001b[39;00m\n\u001b[1;32m---> 10\u001b[0m maharashtra_population \u001b[38;5;241m=\u001b[39m df1[\u001b[43mdf1\u001b[49m\u001b[43m[\u001b[49m\u001b[38;5;124;43m'\u001b[39;49m\u001b[38;5;124;43mstate\u001b[39;49m\u001b[38;5;124;43m'\u001b[39;49m\u001b[43m]\u001b[49m \u001b[38;5;241m==\u001b[39m \u001b[38;5;124m'\u001b[39m\u001b[38;5;124mMaharashtra\u001b[39m\u001b[38;5;124m'\u001b[39m][\u001b[38;5;124m'\u001b[39m\u001b[38;5;124mPopulation\u001b[39m\u001b[38;5;124m'\u001b[39m]\u001b[38;5;241m.\u001b[39mvalues[\u001b[38;5;241m0\u001b[39m]\n\u001b[0;32m     11\u001b[0m maharashtra_area \u001b[38;5;241m=\u001b[39m df1[df1[\u001b[38;5;124m'\u001b[39m\u001b[38;5;124mstate\u001b[39m\u001b[38;5;124m'\u001b[39m] \u001b[38;5;241m==\u001b[39m \u001b[38;5;124m'\u001b[39m\u001b[38;5;124mMaharashtra\u001b[39m\u001b[38;5;124m'\u001b[39m][\u001b[38;5;124m'\u001b[39m\u001b[38;5;124mArea (km2)\u001b[39m\u001b[38;5;124m'\u001b[39m]\u001b[38;5;241m.\u001b[39mvalues[\u001b[38;5;241m0\u001b[39m]\n\u001b[0;32m     12\u001b[0m madhya_pradesh_population \u001b[38;5;241m=\u001b[39m df1[df1[\u001b[38;5;124m'\u001b[39m\u001b[38;5;124mstate\u001b[39m\u001b[38;5;124m'\u001b[39m] \u001b[38;5;241m==\u001b[39m \u001b[38;5;124m'\u001b[39m\u001b[38;5;124mMadhya Pradesh\u001b[39m\u001b[38;5;124m'\u001b[39m][\u001b[38;5;124m'\u001b[39m\u001b[38;5;124mPopulation\u001b[39m\u001b[38;5;124m'\u001b[39m]\u001b[38;5;241m.\u001b[39mvalues[\u001b[38;5;241m0\u001b[39m]\n",
      "File \u001b[1;32m~\\AppData\\Local\\Programs\\Python\\Python313\\Lib\\site-packages\\pandas\\core\\frame.py:4102\u001b[0m, in \u001b[0;36mDataFrame.__getitem__\u001b[1;34m(self, key)\u001b[0m\n\u001b[0;32m   4100\u001b[0m \u001b[38;5;28;01mif\u001b[39;00m \u001b[38;5;28mself\u001b[39m\u001b[38;5;241m.\u001b[39mcolumns\u001b[38;5;241m.\u001b[39mnlevels \u001b[38;5;241m>\u001b[39m \u001b[38;5;241m1\u001b[39m:\n\u001b[0;32m   4101\u001b[0m     \u001b[38;5;28;01mreturn\u001b[39;00m \u001b[38;5;28mself\u001b[39m\u001b[38;5;241m.\u001b[39m_getitem_multilevel(key)\n\u001b[1;32m-> 4102\u001b[0m indexer \u001b[38;5;241m=\u001b[39m \u001b[38;5;28;43mself\u001b[39;49m\u001b[38;5;241;43m.\u001b[39;49m\u001b[43mcolumns\u001b[49m\u001b[38;5;241;43m.\u001b[39;49m\u001b[43mget_loc\u001b[49m\u001b[43m(\u001b[49m\u001b[43mkey\u001b[49m\u001b[43m)\u001b[49m\n\u001b[0;32m   4103\u001b[0m \u001b[38;5;28;01mif\u001b[39;00m is_integer(indexer):\n\u001b[0;32m   4104\u001b[0m     indexer \u001b[38;5;241m=\u001b[39m [indexer]\n",
      "File \u001b[1;32m~\\AppData\\Local\\Programs\\Python\\Python313\\Lib\\site-packages\\pandas\\core\\indexes\\base.py:3812\u001b[0m, in \u001b[0;36mIndex.get_loc\u001b[1;34m(self, key)\u001b[0m\n\u001b[0;32m   3807\u001b[0m     \u001b[38;5;28;01mif\u001b[39;00m \u001b[38;5;28misinstance\u001b[39m(casted_key, \u001b[38;5;28mslice\u001b[39m) \u001b[38;5;129;01mor\u001b[39;00m (\n\u001b[0;32m   3808\u001b[0m         \u001b[38;5;28misinstance\u001b[39m(casted_key, abc\u001b[38;5;241m.\u001b[39mIterable)\n\u001b[0;32m   3809\u001b[0m         \u001b[38;5;129;01mand\u001b[39;00m \u001b[38;5;28many\u001b[39m(\u001b[38;5;28misinstance\u001b[39m(x, \u001b[38;5;28mslice\u001b[39m) \u001b[38;5;28;01mfor\u001b[39;00m x \u001b[38;5;129;01min\u001b[39;00m casted_key)\n\u001b[0;32m   3810\u001b[0m     ):\n\u001b[0;32m   3811\u001b[0m         \u001b[38;5;28;01mraise\u001b[39;00m InvalidIndexError(key)\n\u001b[1;32m-> 3812\u001b[0m     \u001b[38;5;28;01mraise\u001b[39;00m \u001b[38;5;167;01mKeyError\u001b[39;00m(key) \u001b[38;5;28;01mfrom\u001b[39;00m \u001b[38;5;21;01merr\u001b[39;00m\n\u001b[0;32m   3813\u001b[0m \u001b[38;5;28;01mexcept\u001b[39;00m \u001b[38;5;167;01mTypeError\u001b[39;00m:\n\u001b[0;32m   3814\u001b[0m     \u001b[38;5;66;03m# If we have a listlike key, _check_indexing_error will raise\u001b[39;00m\n\u001b[0;32m   3815\u001b[0m     \u001b[38;5;66;03m#  InvalidIndexError. Otherwise we fall through and re-raise\u001b[39;00m\n\u001b[0;32m   3816\u001b[0m     \u001b[38;5;66;03m#  the TypeError.\u001b[39;00m\n\u001b[0;32m   3817\u001b[0m     \u001b[38;5;28mself\u001b[39m\u001b[38;5;241m.\u001b[39m_check_indexing_error(key)\n",
      "\u001b[1;31mKeyError\u001b[0m: 'state'"
     ]
    }
   ],
   "source": [
    "\n",
    "# Step 2: Filter the data for the year 2021\n",
    "df['Timestamp'] = pd.to_datetime(df['Timestamp'])\n",
    "df_2021 = df[df['Timestamp'].dt.year == 2021]\n",
    "\n",
    "# Step 3: Calculate average PM2.5 levels for Maharashtra and Madhya Pradesh\n",
    "pm25_maharashtra = df_2021[df_2021['state'] == 'Maharashtra']['PM2.5'].mean()\n",
    "pm25_madhya_pradesh = df_2021[df_2021['state'] == 'Madhya Pradesh']['PM2.5'].mean()\n",
    "\n",
    "# Step 4: Get population and area data for both states\n",
    "maharashtra_population = df1[df1['state'] == 'Maharashtra']['Population'].values[0]\n",
    "maharashtra_area = df1[df1['state'] == 'Maharashtra']['Area (km2)'].values[0]\n",
    "madhya_pradesh_population = df1[df1['state'] == 'Madhya Pradesh']['Population'].values[0]\n",
    "madhya_pradesh_area = df1[df1['state'] == 'Madhya Pradesh']['Area (km2)'].values[0]\n",
    "\n",
    "# Step 5: Calculate population density for both states\n",
    "maharashtra_density = maharashtra_population / maharashtra_area\n",
    "madhya_pradesh_density = madhya_pradesh_population / madhya_pradesh_area\n",
    "\n",
    "# Step 6: Output the results\n",
    "print(f\"Average PM2.5 level for Maharashtra in 2021: {pm25_maharashtra:.2f} µg/m³\")\n",
    "print(f\"Average PM2.5 level for Madhya Pradesh in 2021: {pm25_madhya_pradesh:.2f} µg/m³\")\n",
    "print(f\"Population Density of Maharashtra: {maharashtra_density:.2f} people/km²\")\n",
    "print(f\"Population Density of Madhya Pradesh: {madhya_pradesh_density:.2f} people/km²\")\n",
    "\n",
    "# Step 7: Plot the results for PM2.5 levels\n",
    "states = ['Maharashtra', 'Madhya Pradesh']\n",
    "pm25_levels = [pm25_maharashtra, pm25_madhya_pradesh]\n",
    "pop_density = [maharashtra_density, madhya_pradesh_density]\n",
    "\n",
    "fig, ax1 = plt.subplots(figsize=(10, 6))\n",
    "\n",
    "# Plot PM2.5 levels\n",
    "ax1.bar(states, pm25_levels, color='skyblue', label='Average PM2.5 (µg/m³)', alpha=0.7)\n",
    "ax1.set_xlabel('State')\n",
    "ax1.set_ylabel('Average PM2.5 (µg/m³)', color='skyblue')\n",
    "ax1.tick_params(axis='y', labelcolor='skyblue')\n",
    "\n",
    "# Create a second y-axis for population density\n",
    "ax2 = ax1.twinx()\n",
    "ax2.plot(states, pop_density, color='orange', label='Population Density (people/km²)', marker='o', linestyle='--')\n",
    "ax2.set_ylabel('Population Density (people/km²)', color='orange')\n",
    "ax2.tick_params(axis='y', labelcolor='orange')\n",
    "\n",
    "# Add title\n",
    "plt.title('Comparison of PM2.5 Levels and Population Density in Maharashtra and Madhya Pradesh (2021)')\n",
    "plt.tight_layout()\n",
    "plt.show()\n"
   ]
  },
  {
   "cell_type": "markdown",
   "id": "76278b9f-0d5a-40c0-ba7c-307e15577832",
   "metadata": {},
   "source": [
    "# funding based"
   ]
  },
  {
   "cell_type": "markdown",
   "id": "e9830ae0-bad4-43bb-af18-caa4ab25068c",
   "metadata": {},
   "source": [
    "### Question 1"
   ]
  },
  {
   "cell_type": "markdown",
   "id": "c3791fa8-7ee3-48b6-a75c-05323fae7ab8",
   "metadata": {},
   "source": [
    "df[\"Timestamp\"] = pd.to_datetime(df[\"Timestamp\"])\n",
    "pollution_2021 = df[df[\"Timestamp\"].dt.year == 2021]\n",
    "\n",
    "state_pm25_avg = pollution_2021.groupby(\"state\")[\"PM2.5\"].mean().reset_index()\n",
    "\n",
    "state_funding = df_2.groupby(\"state\")[\"Total fund released\"].sum().reset_index()\n",
    "\n",
    "state_pm25_avg = state_pm25_avg.merge(state_funding, on=\"state\", how=\"left\")\n",
    "\n",
    "state_pm25_avg[\"NCAP Funded\"] = state_pm25_avg[\"Total fund released\"].fillna(0) > 0\n",
    "\n",
    "avg_pm25_funded = state_pm25_avg[state_pm25_avg[\"NCAP Funded\"]][\"PM2.5\"].mean()\n",
    "avg_pm25_non_funded = state_pm25_avg[~state_pm25_avg[\"NCAP Funded\"]][\"PM2.5\"].mean()\n",
    "\n",
    "print(f\"Average PM2.5 in NCAP-funded states: {avg_pm25_funded:.2f}\")\n",
    "print(f\"Average PM2.5 in non-funded states: {avg_pm25_non_funded:.2f}\")\n",
    "\n",
    "plt.figure(figsize=(6, 5))\n",
    "plt.bar([\"NCAP Funded\", \"Non-Funded\"], [avg_pm25_funded, avg_pm25_non_funded], color=[\"green\", \"red\"])\n",
    "plt.show()"
   ]
  },
  {
   "cell_type": "markdown",
   "id": "cc9759dc-74f0-4254-b4e8-6c56fc714de0",
   "metadata": {},
   "source": [
    "### Question 2"
   ]
  },
  {
   "cell_type": "code",
   "execution_count": 23,
   "id": "fc7be427-18cd-4b38-ae40-1e74544e531a",
   "metadata": {},
   "outputs": [
    {
     "ename": "NameError",
     "evalue": "name 'df_2' is not defined",
     "output_type": "error",
     "traceback": [
      "\u001b[1;31m---------------------------------------------------------------------------\u001b[0m",
      "\u001b[1;31mNameError\u001b[0m                                 Traceback (most recent call last)",
      "Cell \u001b[1;32mIn[23], line 4\u001b[0m\n\u001b[0;32m      1\u001b[0m df[\u001b[38;5;124m\"\u001b[39m\u001b[38;5;124mTimestamp\u001b[39m\u001b[38;5;124m\"\u001b[39m] \u001b[38;5;241m=\u001b[39m pd\u001b[38;5;241m.\u001b[39mto_datetime(df[\u001b[38;5;124m\"\u001b[39m\u001b[38;5;124mTimestamp\u001b[39m\u001b[38;5;124m\"\u001b[39m])\n\u001b[0;32m      3\u001b[0m \u001b[38;5;28;01mfor\u001b[39;00m col \u001b[38;5;129;01min\u001b[39;00m [\u001b[38;5;124m\"\u001b[39m\u001b[38;5;124mAmount released during FY 2019-20\u001b[39m\u001b[38;5;124m\"\u001b[39m, \u001b[38;5;124m\"\u001b[39m\u001b[38;5;124mAmount released during FY 2020-21\u001b[39m\u001b[38;5;124m\"\u001b[39m, \u001b[38;5;124m\"\u001b[39m\u001b[38;5;124mAmount released during FY 2021-22\u001b[39m\u001b[38;5;124m\"\u001b[39m, \u001b[38;5;124m\"\u001b[39m\u001b[38;5;124mTotal fund released\u001b[39m\u001b[38;5;124m\"\u001b[39m]:\n\u001b[1;32m----> 4\u001b[0m     df_2[col] \u001b[38;5;241m=\u001b[39m pd\u001b[38;5;241m.\u001b[39mto_numeric(\u001b[43mdf_2\u001b[49m[col], errors\u001b[38;5;241m=\u001b[39m\u001b[38;5;124m\"\u001b[39m\u001b[38;5;124mcoerce\u001b[39m\u001b[38;5;124m\"\u001b[39m)\n\u001b[0;32m      6\u001b[0m assam_pm25 \u001b[38;5;241m=\u001b[39m df[df[\u001b[38;5;124m\"\u001b[39m\u001b[38;5;124mstate\u001b[39m\u001b[38;5;124m\"\u001b[39m] \u001b[38;5;241m==\u001b[39m \u001b[38;5;124m\"\u001b[39m\u001b[38;5;124mAssam\u001b[39m\u001b[38;5;124m\"\u001b[39m]\u001b[38;5;241m.\u001b[39mcopy()\n\u001b[0;32m      7\u001b[0m assam_pm25[\u001b[38;5;124m\"\u001b[39m\u001b[38;5;124mYear\u001b[39m\u001b[38;5;124m\"\u001b[39m] \u001b[38;5;241m=\u001b[39m assam_pm25[\u001b[38;5;124m\"\u001b[39m\u001b[38;5;124mTimestamp\u001b[39m\u001b[38;5;124m\"\u001b[39m]\u001b[38;5;241m.\u001b[39mdt\u001b[38;5;241m.\u001b[39myear \n",
      "\u001b[1;31mNameError\u001b[0m: name 'df_2' is not defined"
     ]
    }
   ],
   "source": [
    "df[\"Timestamp\"] = pd.to_datetime(df[\"Timestamp\"])\n",
    "\n",
    "for col in [\"Amount released during FY 2019-20\", \"Amount released during FY 2020-21\", \"Amount released during FY 2021-22\", \"Total fund released\"]:\n",
    "    df_2[col] = pd.to_numeric(df_2[col], errors=\"coerce\")\n",
    "\n",
    "assam_pm25 = df[df[\"state\"] == \"Assam\"].copy()\n",
    "assam_pm25[\"Year\"] = assam_pm25[\"Timestamp\"].dt.year \n",
    "pm25_trend = assam_pm25.groupby(\"Year\")[\"PM2.5\"].mean().reset_index()\n",
    "\n",
    "assam_funding = df_2[df_2[\"state\"] == \"Assam\"]\n",
    "\n",
    "funding_by_year = pd.DataFrame({\n",
    "    \"Year\": [2019, 2020, 2021],  \n",
    "    \"Total fund released\": [\n",
    "        assam_funding[\"Amount released during FY 2019-20\"].sum(),\n",
    "        assam_funding[\"Amount released during FY 2020-21\"].sum(),\n",
    "        assam_funding[\"Amount released during FY 2021-22\"].sum()\n",
    "    ]\n",
    "})\n",
    "\n",
    "assam_trend = pm25_trend.merge(funding_by_year, on=\"Year\", how=\"left\")\n",
    "assam_trend = assam_trend[assam_trend[\"Year\"].isin([2019, 2020, 2021])]\n",
    "\n",
    "\n",
    "fig, ax1 = plt.subplots(figsize=(10, 5))\n",
    "\n",
    "ax1.set_xlabel(\"Year\")\n",
    "ax1.set_ylabel(\"Average PM2.5 Level\", color=\"red\")\n",
    "ax1.plot(assam_trend[\"Year\"], assam_trend[\"PM2.5\"], marker=\"o\", color=\"red\", label=\"PM2.5 Level\")\n",
    "ax1.tick_params(axis=\"y\", labelcolor=\"red\")\n",
    "\n",
    "ax2 = ax1.twinx()\n",
    "ax2.set_ylabel(\"NCAP Funding (Crores)\", color=\"blue\")\n",
    "ax2.bar(assam_trend[\"Year\"], assam_trend[\"Total fund released\"], alpha=0.5, color=\"blue\", label=\"NCAP Funding\")\n",
    "ax2.tick_params(axis=\"y\", labelcolor=\"blue\")\n",
    "\n",
    "plt.title(\"PM2.5 Levels vs. NCAP Funding in Assam (Time Series)\")\n",
    "fig.tight_layout()\n",
    "plt.show()"
   ]
  },
  {
   "cell_type": "markdown",
   "id": "9ac0b302-02a9-41dc-a95b-3deb0b65cd55",
   "metadata": {},
   "source": [
    "### Question 3"
   ]
  },
  {
   "cell_type": "code",
   "execution_count": 24,
   "id": "8d542506-8fe6-43f2-bcd0-84c7c58b571d",
   "metadata": {},
   "outputs": [
    {
     "ename": "NameError",
     "evalue": "name 'df_2' is not defined",
     "output_type": "error",
     "traceback": [
      "\u001b[1;31m---------------------------------------------------------------------------\u001b[0m",
      "\u001b[1;31mNameError\u001b[0m                                 Traceback (most recent call last)",
      "Cell \u001b[1;32mIn[24], line 2\u001b[0m\n\u001b[0;32m      1\u001b[0m \u001b[38;5;28;01mfor\u001b[39;00m col \u001b[38;5;129;01min\u001b[39;00m [\u001b[38;5;124m\"\u001b[39m\u001b[38;5;124mTotal fund released\u001b[39m\u001b[38;5;124m\"\u001b[39m]:\n\u001b[1;32m----> 2\u001b[0m     df_2[col] \u001b[38;5;241m=\u001b[39m pd\u001b[38;5;241m.\u001b[39mto_numeric(\u001b[43mdf_2\u001b[49m[col], errors\u001b[38;5;241m=\u001b[39m\u001b[38;5;124m\"\u001b[39m\u001b[38;5;124mcoerce\u001b[39m\u001b[38;5;124m\"\u001b[39m)\n\u001b[0;32m      4\u001b[0m state_funding \u001b[38;5;241m=\u001b[39m df_2\u001b[38;5;241m.\u001b[39mgroupby(\u001b[38;5;124m\"\u001b[39m\u001b[38;5;124mstate\u001b[39m\u001b[38;5;124m\"\u001b[39m)[\u001b[38;5;124m\"\u001b[39m\u001b[38;5;124mTotal fund released\u001b[39m\u001b[38;5;124m\"\u001b[39m]\u001b[38;5;241m.\u001b[39msum()\u001b[38;5;241m.\u001b[39mreset_index()\n\u001b[0;32m      5\u001b[0m state_funding \u001b[38;5;241m=\u001b[39m state_funding\u001b[38;5;241m.\u001b[39mmerge(df1, on\u001b[38;5;241m=\u001b[39m\u001b[38;5;124m\"\u001b[39m\u001b[38;5;124mstate\u001b[39m\u001b[38;5;124m\"\u001b[39m, how\u001b[38;5;241m=\u001b[39m\u001b[38;5;124m\"\u001b[39m\u001b[38;5;124mleft\u001b[39m\u001b[38;5;124m\"\u001b[39m) \n",
      "\u001b[1;31mNameError\u001b[0m: name 'df_2' is not defined"
     ]
    }
   ],
   "source": [
    "for col in [\"Total fund released\"]:\n",
    "    df_2[col] = pd.to_numeric(df_2[col], errors=\"coerce\")\n",
    "\n",
    "state_funding = df_2.groupby(\"state\")[\"Total fund released\"].sum().reset_index()\n",
    "state_funding = state_funding.merge(df1, on=\"state\", how=\"left\") \n",
    "\n",
    "plt.figure(figsize=(12, 6))\n",
    "scatter = sns.scatterplot(\n",
    "    data=state_funding,\n",
    "    x=\"Area (km2)\", \n",
    "    y=\"Total fund released\", \n",
    "    hue=\"state\",  \n",
    "    palette=\"tab20\",\n",
    "    s=100,  \n",
    "    edgecolor=\"black\"\n",
    ")\n",
    "plt.show()"
   ]
  },
  {
   "cell_type": "markdown",
   "id": "c76be9d9-d821-45e0-8043-b65cf019724f",
   "metadata": {},
   "source": [
    "# Miscellaneous Questions "
   ]
  },
  {
   "cell_type": "markdown",
   "id": "bd994fe1-c867-4da2-bbb1-311620b0cd1b",
   "metadata": {},
   "source": [
    "### Question 1"
   ]
  },
  {
   "cell_type": "code",
   "execution_count": 29,
   "id": "30ea70d2-313e-4c7c-9e1d-e053c85efc09",
   "metadata": {},
   "outputs": [
    {
     "name": "stdout",
     "output_type": "stream",
     "text": [
      "The most polluted city in the year 2023 was Byrnihat, with an average level of pm2.5 equal to 144.82928933275244 units.\n",
      "Number of hazardous days: 17\n"
     ]
    }
   ],
   "source": [
    "# finding most polluted city in 2023: \n",
    "df_2023=df[df[\"Timestamp\"].dt.year==2023]\n",
    "cities_average=df_2023.groupby(\"city\")[\"PM2.5\"].mean()\n",
    "print(f\"The most polluted city in the year 2023 was {cities_average.idxmax()}, with an average level of pm2.5 equal to {cities_average[cities_average.idxmax()]} units.\")\n",
    "\n",
    "#finding number of hazardous days for the most polluted city: \n",
    "mpcity=cities_average.idxmax()\n",
    "mpcity_data=df[df[\"city\"]==mpcity]\n",
    "hazardous_days=mpcity_data[mpcity_data[\"PM2.5\"]>300]\n",
    "hazardous_days_count=hazardous_days[\"Timestamp\"].nunique()\n",
    "print(f\"Number of hazardous days: {hazardous_days_count}\")"
   ]
  },
  {
   "cell_type": "markdown",
   "id": "71bd2f0f-2980-431f-b227-c484a4ecb1ec",
   "metadata": {},
   "source": [
    "### Question 2"
   ]
  },
  {
   "cell_type": "code",
   "execution_count": 7,
   "id": "33e1b1a5-a73f-4d81-9ffd-ac6176a2fa0f",
   "metadata": {},
   "outputs": [
    {
     "name": "stdout",
     "output_type": "stream",
     "text": [
      "Average PM2.5 levels during diwali were 59.039800328530184 units.\n",
      "Average PM2.5 levels during New year were 73.71580818128537 units.\n",
      "Average PM2.5 levels in rest of the year were 44.62636438400029 units.\n"
     ]
    },
    {
     "data": {
      "image/png": "[encoded data removed]",
      "text/plain": [
       "<Figure size 640x480 with 1 Axes>"
      ]
     },
     "metadata": {},
     "output_type": "display_data"
    }
   ],
   "source": [
    "df[\"month\"]=df[\"Timestamp\"].dt.month\n",
    "df[\"year\"]=df[\"Timestamp\"].dt.year\n",
    "\n",
    "df_diwali=df[(df[\"month\"].isin([10,11]))&(df[\"year\"].isin([2018,2019,2020]))]\n",
    "diwali_average=df_diwali[\"PM2.5\"].mean()\n",
    "print(f\"Average PM2.5 levels during diwali were {diwali_average} units.\")\n",
    "\n",
    "df_newyear=df[(df[\"Timestamp\"].dt.month==1)&(df[\"Timestamp\"].dt.day==1)&(df[\"year\"].isin([2018,2019,2020]))]\n",
    "newyear_average=df_newyear[\"PM2.5\"].mean()\n",
    "print(f\"Average PM2.5 levels during New year were {newyear_average} units.\")\n",
    "\n",
    "df_normal=df[(df[\"month\"].isin([2,3,4,5,6,7,8,9,12]))&(df[\"year\"].isin([2018,2019,2020]))]\n",
    "normal_average=df_normal[\"PM2.5\"].mean()\n",
    "print(f\"Average PM2.5 levels in rest of the year were {normal_average} units.\")\n",
    "\n",
    "plt.plot(df_diwali[\"Timestamp\"], df_diwali[\"PM2.5\"], color=\"red\", label=\"Diwali\")\n",
    "plt.annotate(\"Diwali\", xy=(df_diwali[\"Timestamp\"].median(), diwali_average),xytext=(df_diwali[\"Timestamp\"].median(), diwali_average + 50),arrowprops=dict(facecolor=\"red\", arrowstyle=\"->\"))\n",
    "\n",
    "plt.plot(df_newyear[\"Timestamp\"], df_newyear[\"PM2.5\"], color=\"blue\", label=\"New Year\")\n",
    "plt.annotate(\"New Year\", xy=(df_newyear[\"Timestamp\"].median(), newyear_average),xytext=(df_newyear[\"Timestamp\"].median(), newyear_average + 50),arrowprops=dict(facecolor=\"blue\", arrowstyle=\"->\"))\n",
    "\n",
    "plt.xlabel(\"Timeline\")\n",
    "plt.ylabel(\"PM2.5 Level\")\n",
    "plt.legend()\n",
    "plt.xticks(rotation=90)\n",
    "plt.grid(True)\n",
    "plt.show()"
   ]
  },
  {
   "cell_type": "markdown",
   "id": "e7b1e6cb-4ca0-4bba-864f-9a8a337c6192",
   "metadata": {},
   "source": [
    "### Question 3"
   ]
  },
  {
   "cell_type": "code",
   "execution_count": 25,
   "id": "888a4c49-6c86-4377-abfa-68f21c264abb",
   "metadata": {},
   "outputs": [
    {
     "ename": "NameError",
     "evalue": "name 'df_2' is not defined",
     "output_type": "error",
     "traceback": [
      "\u001b[1;31m---------------------------------------------------------------------------\u001b[0m",
      "\u001b[1;31mNameError\u001b[0m                                 Traceback (most recent call last)",
      "Cell \u001b[1;32mIn[25], line 3\u001b[0m\n\u001b[0;32m      1\u001b[0m df[\u001b[38;5;124m\"\u001b[39m\u001b[38;5;124mTimestamp\u001b[39m\u001b[38;5;124m\"\u001b[39m] \u001b[38;5;241m=\u001b[39m pd\u001b[38;5;241m.\u001b[39mto_datetime(df[\u001b[38;5;124m\"\u001b[39m\u001b[38;5;124mTimestamp\u001b[39m\u001b[38;5;124m\"\u001b[39m])\n\u001b[1;32m----> 3\u001b[0m df_2[\u001b[38;5;124m\"\u001b[39m\u001b[38;5;124mAmount released during FY 2020-21\u001b[39m\u001b[38;5;124m\"\u001b[39m] \u001b[38;5;241m=\u001b[39m pd\u001b[38;5;241m.\u001b[39mto_numeric(\u001b[43mdf_2\u001b[49m[\u001b[38;5;124m\"\u001b[39m\u001b[38;5;124mAmount released during FY 2020-21\u001b[39m\u001b[38;5;124m\"\u001b[39m], errors\u001b[38;5;241m=\u001b[39m\u001b[38;5;124m\"\u001b[39m\u001b[38;5;124mcoerce\u001b[39m\u001b[38;5;124m\"\u001b[39m)\n\u001b[0;32m      5\u001b[0m highest_funded_state \u001b[38;5;241m=\u001b[39m df_2\u001b[38;5;241m.\u001b[39mgroupby(\u001b[38;5;124m\"\u001b[39m\u001b[38;5;124mstate\u001b[39m\u001b[38;5;124m\"\u001b[39m)[\u001b[38;5;124m\"\u001b[39m\u001b[38;5;124mAmount released during FY 2020-21\u001b[39m\u001b[38;5;124m\"\u001b[39m]\u001b[38;5;241m.\u001b[39msum()\u001b[38;5;241m.\u001b[39midxmax()\n\u001b[0;32m      6\u001b[0m \u001b[38;5;28mprint\u001b[39m(\u001b[38;5;124mf\u001b[39m\u001b[38;5;124m\"\u001b[39m\u001b[38;5;124mState with highest NCAP funding in 2020: \u001b[39m\u001b[38;5;132;01m{\u001b[39;00mhighest_funded_state\u001b[38;5;132;01m}\u001b[39;00m\u001b[38;5;124m\"\u001b[39m)\n",
      "\u001b[1;31mNameError\u001b[0m: name 'df_2' is not defined"
     ]
    }
   ],
   "source": [
    "df[\"Timestamp\"] = pd.to_datetime(df[\"Timestamp\"])\n",
    "\n",
    "df_2[\"Amount released during FY 2020-21\"] = pd.to_numeric(df_2[\"Amount released during FY 2020-21\"], errors=\"coerce\")\n",
    "\n",
    "highest_funded_state = df_2.groupby(\"state\")[\"Amount released during FY 2020-21\"].sum().idxmax()\n",
    "print(f\"State with highest NCAP funding in 2020: {highest_funded_state}\")\n",
    "\n",
    "state_pm25 = df[df[\"state\"] == highest_funded_state].copy()\n",
    "\n",
    "state_pm25[\"Year\"] = state_pm25[\"Timestamp\"].dt.year\n",
    "pm25_trend = state_pm25.groupby(\"Year\")[\"PM2.5\"].mean().reset_index()\n",
    "\n",
    "pm25_trend = pm25_trend[pm25_trend[\"Year\"].isin([2020, 2021, 2022, 2023])]\n",
    "\n",
    "plt.figure(figsize=(10, 5))\n",
    "plt.plot(pm25_trend[\"Year\"], pm25_trend[\"PM2.5\"], marker=\"o\", linestyle=\"-\", color=\"red\", label=f\"{highest_funded_state} PM2.5 Trend\")\n",
    "\n",
    "funding_2020 = df_2[df_2[\"state\"] == highest_funded_state][\"Amount released during FY 2020-21\"].sum()\n",
    "plt.annotate(f\"Funding: {funding_2020} Cr\", xy=(2020, pm25_trend[pm25_trend['Year'] == 2020][\"PM2.5\"].values[0]),\n",
    "             xytext=(2020, pm25_trend[\"PM2.5\"].max()), arrowprops=dict(facecolor=\"blue\", arrowstyle=\"->\"), fontsize=10)\n",
    "\n",
    "plt.xlabel(\"Year\")\n",
    "plt.ylabel(\"Average PM2.5 (µg/m^3)\")\n",
    "plt.title(f\"Air Quality Trend in {highest_funded_state} (2020-2023)\")\n",
    "plt.legend()\n",
    "plt.grid(True)\n",
    "plt.show()"
   ]
  },
  {
   "cell_type": "markdown",
   "id": "c7ef8775-9d9c-43e8-a527-4f2292309637",
   "metadata": {},
   "source": [
    "### Question 4"
   ]
  },
  {
   "cell_type": "code",
   "execution_count": 26,
   "id": "a57a0e94-a116-4b08-ab08-6113594168be",
   "metadata": {},
   "outputs": [
    {
     "ename": "NameError",
     "evalue": "name 'ox' is not defined",
     "output_type": "error",
     "traceback": [
      "\u001b[1;31m---------------------------------------------------------------------------\u001b[0m",
      "\u001b[1;31mNameError\u001b[0m                                 Traceback (most recent call last)",
      "Cell \u001b[1;32mIn[26], line 1\u001b[0m\n\u001b[1;32m----> 1\u001b[0m india_boundary\u001b[38;5;241m=\u001b[39m\u001b[43mox\u001b[49m\u001b[38;5;241m.\u001b[39mgeocode_to_gdf(\u001b[38;5;124m\"\u001b[39m\u001b[38;5;124mIndia\u001b[39m\u001b[38;5;124m\"\u001b[39m)\n\u001b[0;32m      2\u001b[0m sensor_locations\u001b[38;5;241m=\u001b[39mdf[[\u001b[38;5;124m'\u001b[39m\u001b[38;5;124mlatitude\u001b[39m\u001b[38;5;124m'\u001b[39m, \u001b[38;5;124m'\u001b[39m\u001b[38;5;124mlongitude\u001b[39m\u001b[38;5;124m'\u001b[39m, \u001b[38;5;124m'\u001b[39m\u001b[38;5;124mstation\u001b[39m\u001b[38;5;124m'\u001b[39m]]\u001b[38;5;241m.\u001b[39mdropna()\n\u001b[0;32m      4\u001b[0m fig, ax\u001b[38;5;241m=\u001b[39mplt\u001b[38;5;241m.\u001b[39msubplots(figsize\u001b[38;5;241m=\u001b[39m(\u001b[38;5;241m10\u001b[39m, \u001b[38;5;241m10\u001b[39m))\n",
      "\u001b[1;31mNameError\u001b[0m: name 'ox' is not defined"
     ]
    }
   ],
   "source": [
    "india_boundary=ox.geocode_to_gdf(\"India\")\n",
    "sensor_locations=df[['latitude', 'longitude', 'station']].dropna()\n",
    "\n",
    "fig, ax=plt.subplots(figsize=(10, 10))\n",
    "india_boundary.plot(ax=ax, color='lightgreen', edgecolor='black')\n",
    "ax.scatter(sensor_locations['longitude'], sensor_locations['latitude'], \n",
    "           color='black', marker='^', s=50, edgecolors='white', label='Sensor Locations')\n",
    "ax.set_title('Sensor Locations in India', fontsize=12)\n",
    "ax.legend(loc='upper right')\n",
    "plt.show()"
   ]
  },
  {
   "cell_type": "markdown",
   "id": "4969fe4a-3ab7-49cf-adec-337fc65b6400",
   "metadata": {},
   "source": [
    "# tell me something new"
   ]
  },
  {
   "cell_type": "code",
   "execution_count": 28,
   "id": "d77cbb02-b7ea-4460-904d-c004a06b7ec6",
   "metadata": {},
   "outputs": [
    {
     "name": "stdout",
     "output_type": "stream",
     "text": [
      "Cities with High Pollution but Low Monitoring:\n",
      "Empty DataFrame\n",
      "Columns: [city, PM2.5, station, PM2.5 per station]\n",
      "Index: []\n"
     ]
    }
   ],
   "source": [
    "# Step 1: Remove NaN values from relevant columns\n",
    "df = df.dropna(subset=['city', 'PM2.5', 'station'])\n",
    "\n",
    "# Step 2: Compute average PM2.5 for each city\n",
    "city_avg_pm25 = df.groupby('city')['PM2.5'].mean().reset_index()\n",
    "\n",
    "# Step 3: Count monitoring stations per city\n",
    "stations_per_city = df.groupby('city')['station'].nunique().reset_index()\n",
    "\n",
    "# Step 4: Merge both metrics\n",
    "city_analysis = city_avg_pm25.merge(stations_per_city, on='city')\n",
    "\n",
    "# Step 5: Avoid division by zero by ensuring no city has 0 stations\n",
    "city_analysis = city_analysis[city_analysis['station'] > 0]\n",
    "\n",
    "# Step 6: Compute PM2.5 per monitoring station\n",
    "city_analysis['PM2.5 per station'] = city_analysis['PM2.5'] / city_analysis['station']\n",
    "\n",
    "# Step 7: Find under-monitored cities (high pollution, few stations)\n",
    "under_monitored = city_analysis[\n",
    "    (city_analysis['PM2.5'] > city_analysis['PM2.5'].median()) & \n",
    "    (city_analysis['station'] < city_analysis['station'].median())\n",
    "]\n",
    "\n",
    "# Step 8: Sort by PM2.5 per station (higher means worse monitoring)\n",
    "under_monitored = under_monitored.sort_values(by='PM2.5 per station', ascending=False)\n",
    "\n",
    "# Display top 10 under-monitored cities\n",
    "print(\"Cities with High Pollution but Low Monitoring:\")\n",
    "print(under_monitored[['city', 'PM2.5', 'station', 'PM2.5 per station']].head(10))\n"
   ]
  }
 ],
 "metadata": {
  "kernelspec": {
   "display_name": "Python 3 (ipykernel)",
   "language": "python",
   "name": "python3"
  },
  "language_info": {
   "codemirror_mode": {
    "name": "ipython",
    "version": 3
   },
   "file_extension": ".py",
   "mimetype": "text/x-python",
   "name": "python",
   "nbconvert_exporter": "python",
   "pygments_lexer": "ipython3",
   "version": "3.13.0"
  }
 },
 "nbformat": 4,
 "nbformat_minor": 5
}
